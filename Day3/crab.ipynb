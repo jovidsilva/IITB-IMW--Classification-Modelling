{
 "cells": [
  {
   "cell_type": "markdown",
   "id": "b4bd13a1",
   "metadata": {},
   "source": [
    "# Crab Dataset"
   ]
  },
  {
   "cell_type": "markdown",
   "id": "4875b4e5",
   "metadata": {},
   "source": [
    "Source: Data provided by Dr. Jane Brockmann, Zoology Department, University of Florida; study described in Ethology, 102: 1–21, 1996.\n",
    "\n",
    "\n",
    "Here class is whether a female crab has a satellite (1=yes, 0=no) and weight is in grams, rather than kg as in the text. Also, color has values 1-5 with 1=light; there were no crabs of color 1, so in the text, color was re-coded as color - 1 to give values 1, 2, 3, 4."
   ]
  },
  {
   "cell_type": "markdown",
   "id": "7bef4916",
   "metadata": {},
   "source": [
    "## Attributes Details"
   ]
  },
  {
   "cell_type": "code",
   "execution_count": 1,
   "id": "ce2d8717",
   "metadata": {},
   "outputs": [],
   "source": [
    "# importing libraries\n",
    "import matplotlib.pyplot as plt\n",
    "import sympy as sp\n",
    "import numpy as np\n",
    "import pandas as pd\n",
    "import seaborn as sb\n",
    "from sklearn.metrics import confusion_matrix, ConfusionMatrixDisplay\n",
    "import statsmodels.api as sm"
   ]
  },
  {
   "cell_type": "code",
   "execution_count": 2,
   "id": "1e3f70f6",
   "metadata": {},
   "outputs": [
    {
     "data": {
      "text/html": [
       "<div>\n",
       "<style scoped>\n",
       "    .dataframe tbody tr th:only-of-type {\n",
       "        vertical-align: middle;\n",
       "    }\n",
       "\n",
       "    .dataframe tbody tr th {\n",
       "        vertical-align: top;\n",
       "    }\n",
       "\n",
       "    .dataframe thead th {\n",
       "        text-align: right;\n",
       "    }\n",
       "</style>\n",
       "<table border=\"1\" class=\"dataframe\">\n",
       "  <thead>\n",
       "    <tr style=\"text-align: right;\">\n",
       "      <th></th>\n",
       "      <th>color</th>\n",
       "      <th>spine</th>\n",
       "      <th>width</th>\n",
       "      <th>satell</th>\n",
       "      <th>weight</th>\n",
       "      <th>class</th>\n",
       "    </tr>\n",
       "  </thead>\n",
       "  <tbody>\n",
       "    <tr>\n",
       "      <th>0</th>\n",
       "      <td>3</td>\n",
       "      <td>3</td>\n",
       "      <td>28.3</td>\n",
       "      <td>8</td>\n",
       "      <td>3050</td>\n",
       "      <td>1</td>\n",
       "    </tr>\n",
       "    <tr>\n",
       "      <th>1</th>\n",
       "      <td>4</td>\n",
       "      <td>3</td>\n",
       "      <td>22.5</td>\n",
       "      <td>0</td>\n",
       "      <td>1550</td>\n",
       "      <td>0</td>\n",
       "    </tr>\n",
       "    <tr>\n",
       "      <th>2</th>\n",
       "      <td>2</td>\n",
       "      <td>1</td>\n",
       "      <td>26.0</td>\n",
       "      <td>9</td>\n",
       "      <td>2300</td>\n",
       "      <td>1</td>\n",
       "    </tr>\n",
       "    <tr>\n",
       "      <th>3</th>\n",
       "      <td>4</td>\n",
       "      <td>3</td>\n",
       "      <td>24.8</td>\n",
       "      <td>0</td>\n",
       "      <td>2100</td>\n",
       "      <td>0</td>\n",
       "    </tr>\n",
       "    <tr>\n",
       "      <th>4</th>\n",
       "      <td>4</td>\n",
       "      <td>3</td>\n",
       "      <td>26.0</td>\n",
       "      <td>4</td>\n",
       "      <td>2600</td>\n",
       "      <td>1</td>\n",
       "    </tr>\n",
       "  </tbody>\n",
       "</table>\n",
       "</div>"
      ],
      "text/plain": [
       "   color  spine  width  satell  weight  class\n",
       "0      3      3   28.3       8    3050      1\n",
       "1      4      3   22.5       0    1550      0\n",
       "2      2      1   26.0       9    2300      1\n",
       "3      4      3   24.8       0    2100      0\n",
       "4      4      3   26.0       4    2600      1"
      ]
     },
     "execution_count": 2,
     "metadata": {},
     "output_type": "execute_result"
    }
   ],
   "source": [
    "# reading the excel file\n",
    "df = pd.read_csv('crab.csv')\n",
    "#print first 5 rows \n",
    "df.head()"
   ]
  },
  {
   "cell_type": "code",
   "execution_count": 3,
   "id": "8cca0f81",
   "metadata": {},
   "outputs": [
    {
     "data": {
      "text/html": [
       "<div>\n",
       "<style scoped>\n",
       "    .dataframe tbody tr th:only-of-type {\n",
       "        vertical-align: middle;\n",
       "    }\n",
       "\n",
       "    .dataframe tbody tr th {\n",
       "        vertical-align: top;\n",
       "    }\n",
       "\n",
       "    .dataframe thead th {\n",
       "        text-align: right;\n",
       "    }\n",
       "</style>\n",
       "<table border=\"1\" class=\"dataframe\">\n",
       "  <thead>\n",
       "    <tr style=\"text-align: right;\">\n",
       "      <th></th>\n",
       "      <th>color</th>\n",
       "      <th>spine</th>\n",
       "      <th>width</th>\n",
       "      <th>satell</th>\n",
       "      <th>weight</th>\n",
       "      <th>class</th>\n",
       "    </tr>\n",
       "  </thead>\n",
       "  <tbody>\n",
       "    <tr>\n",
       "      <th>count</th>\n",
       "      <td>173.00</td>\n",
       "      <td>173.00</td>\n",
       "      <td>173.00</td>\n",
       "      <td>173.00</td>\n",
       "      <td>173.00</td>\n",
       "      <td>173.00</td>\n",
       "    </tr>\n",
       "    <tr>\n",
       "      <th>mean</th>\n",
       "      <td>3.44</td>\n",
       "      <td>2.49</td>\n",
       "      <td>26.30</td>\n",
       "      <td>2.92</td>\n",
       "      <td>2437.19</td>\n",
       "      <td>0.64</td>\n",
       "    </tr>\n",
       "    <tr>\n",
       "      <th>std</th>\n",
       "      <td>0.80</td>\n",
       "      <td>0.83</td>\n",
       "      <td>2.11</td>\n",
       "      <td>3.15</td>\n",
       "      <td>577.03</td>\n",
       "      <td>0.48</td>\n",
       "    </tr>\n",
       "    <tr>\n",
       "      <th>min</th>\n",
       "      <td>2.00</td>\n",
       "      <td>1.00</td>\n",
       "      <td>21.00</td>\n",
       "      <td>0.00</td>\n",
       "      <td>1200.00</td>\n",
       "      <td>0.00</td>\n",
       "    </tr>\n",
       "    <tr>\n",
       "      <th>25%</th>\n",
       "      <td>3.00</td>\n",
       "      <td>2.00</td>\n",
       "      <td>24.90</td>\n",
       "      <td>0.00</td>\n",
       "      <td>2000.00</td>\n",
       "      <td>0.00</td>\n",
       "    </tr>\n",
       "    <tr>\n",
       "      <th>50%</th>\n",
       "      <td>3.00</td>\n",
       "      <td>3.00</td>\n",
       "      <td>26.10</td>\n",
       "      <td>2.00</td>\n",
       "      <td>2350.00</td>\n",
       "      <td>1.00</td>\n",
       "    </tr>\n",
       "    <tr>\n",
       "      <th>75%</th>\n",
       "      <td>4.00</td>\n",
       "      <td>3.00</td>\n",
       "      <td>27.70</td>\n",
       "      <td>5.00</td>\n",
       "      <td>2850.00</td>\n",
       "      <td>1.00</td>\n",
       "    </tr>\n",
       "    <tr>\n",
       "      <th>max</th>\n",
       "      <td>5.00</td>\n",
       "      <td>3.00</td>\n",
       "      <td>33.50</td>\n",
       "      <td>15.00</td>\n",
       "      <td>5200.00</td>\n",
       "      <td>1.00</td>\n",
       "    </tr>\n",
       "  </tbody>\n",
       "</table>\n",
       "</div>"
      ],
      "text/plain": [
       "        color   spine   width  satell   weight   class\n",
       "count  173.00  173.00  173.00  173.00   173.00  173.00\n",
       "mean     3.44    2.49   26.30    2.92  2437.19    0.64\n",
       "std      0.80    0.83    2.11    3.15   577.03    0.48\n",
       "min      2.00    1.00   21.00    0.00  1200.00    0.00\n",
       "25%      3.00    2.00   24.90    0.00  2000.00    0.00\n",
       "50%      3.00    3.00   26.10    2.00  2350.00    1.00\n",
       "75%      4.00    3.00   27.70    5.00  2850.00    1.00\n",
       "max      5.00    3.00   33.50   15.00  5200.00    1.00"
      ]
     },
     "execution_count": 3,
     "metadata": {},
     "output_type": "execute_result"
    }
   ],
   "source": [
    "df.describe(include='all').round(2) #Descriptive statistics"
   ]
  },
  {
   "cell_type": "markdown",
   "id": "af7ec943",
   "metadata": {},
   "source": [
    "### logistic regression and compute its goodness of fit"
   ]
  },
  {
   "cell_type": "code",
   "execution_count": 5,
   "id": "ab50f003",
   "metadata": {},
   "outputs": [
    {
     "name": "stdout",
     "output_type": "stream",
     "text": [
      "Optimization terminated successfully.\n",
      "         Current function value: 0.580785\n",
      "         Iterations 5\n"
     ]
    }
   ],
   "source": [
    "X = df.drop(['class','satell','weight'], axis=1).to_numpy()\n",
    "y = df['class'].to_numpy()\n",
    "#Fit the model to the data\n",
    "log_reg = sm.Logit(y, X).fit()"
   ]
  },
  {
   "cell_type": "code",
   "execution_count": 14,
   "id": "bbccf9a2",
   "metadata": {},
   "outputs": [
    {
     "data": {
      "text/plain": [
       "array([0.80769483, 0.44073805, 0.85006609, 0.51577762, 0.55486093,\n",
       "       0.69964403, 0.85822429, 0.47351345, 0.62722948, 0.54188436,\n",
       "       0.49940793, 0.75168181, 0.80565189, 0.18179776, 0.69458608,\n",
       "       0.86752137, 0.73672247, 0.82153769, 0.29662116, 0.78871569,\n",
       "       0.64815217, 0.85323433, 0.58980278, 0.57738077, 0.32753823,\n",
       "       0.33918221, 0.81570282, 0.71635404, 0.37833027, 0.72902919,\n",
       "       0.8972852 , 0.88299197, 0.71878146, 0.68618601, 0.71368473,\n",
       "       0.27003613, 0.77532051, 0.79089045, 0.26235984, 0.79942444,\n",
       "       0.60272442, 0.85172808, 0.87629667, 0.79341687, 0.55864764,\n",
       "       0.64570872, 0.80565189, 0.73160925, 0.81173152, 0.79978412,\n",
       "       0.29662116, 0.79519045, 0.87197315, 0.67430119, 0.68618601,\n",
       "       0.80769483, 0.78431663, 0.56132239, 0.74220238, 0.31894154,\n",
       "       0.59011241, 0.50595762, 0.50979281, 0.75653987, 0.80151671,\n",
       "       0.83994243, 0.82153769, 0.76133307, 0.70830124, 0.76133307,\n",
       "       0.54188436, 0.45694004, 0.45694004, 0.74177265, 0.49613302,\n",
       "       0.63913848, 0.51605792, 0.74177265, 0.54513453, 0.7341737 ,\n",
       "       0.46698676, 0.37833027, 0.46019253, 0.47379326, 0.75168181,\n",
       "       0.36305218, 0.81173152, 0.25525207, 0.26490292, 0.67166521,\n",
       "       0.78690107, 0.71635404, 0.35401409, 0.76411008, 0.46019253,\n",
       "       0.77112005, 0.53863061, 0.57097505, 0.50595762, 0.63363183,\n",
       "       0.80565189, 0.71855454, 0.79089045, 0.6915607 , 0.67191268,\n",
       "       0.59643435, 0.76370524, 0.82153769, 0.73925547, 0.76840055,\n",
       "       0.79731569, 0.77985155, 0.54513453, 0.73160925, 0.87064781,\n",
       "       0.27003613, 0.43515662, 0.42466131, 0.73160925, 0.5869401 ,\n",
       "       0.48303951, 0.90765368, 0.56132239, 0.71053896, 0.78871569,\n",
       "       0.71076975, 0.63058549, 0.24018992, 0.76133307, 0.66319139,\n",
       "       0.8448409 , 0.7341737 , 0.74718352, 0.32753823, 0.79942444,\n",
       "       0.72902919, 0.75695308, 0.59327724, 0.69987983, 0.79089045,\n",
       "       0.85865262, 0.84855334, 0.64869982, 0.64541584, 0.75168181,\n",
       "       0.30488556, 0.82754753, 0.83093946, 0.48958448, 0.83994243,\n",
       "       0.7930487 , 0.76133307, 0.60867589, 0.60241789, 0.29118418,\n",
       "       0.72382258, 0.80769483, 0.70238966, 0.48303951, 0.63692711,\n",
       "       0.76840055, 0.75653987, 0.80565189, 0.32465942, 0.76840055,\n",
       "       0.75168181, 0.49285844, 0.56132239, 0.55809411, 0.64869982,\n",
       "       0.88049419, 0.36305218, 0.68594428])"
      ]
     },
     "execution_count": 14,
     "metadata": {},
     "output_type": "execute_result"
    }
   ],
   "source": [
    "log_reg.predict(X)"
   ]
  },
  {
   "cell_type": "code",
   "execution_count": 15,
   "id": "bec9d8cb",
   "metadata": {},
   "outputs": [
    {
     "data": {
      "text/plain": [
       "array([1, 0, 1, 1, 1, 1, 1, 0, 1, 1, 0, 1, 1, 0, 1, 1, 1, 1, 0, 1, 1, 1,\n",
       "       1, 1, 0, 0, 1, 1, 0, 1, 1, 1, 1, 1, 1, 0, 1, 1, 0, 1, 1, 1, 1, 1,\n",
       "       1, 1, 1, 1, 1, 1, 0, 1, 1, 1, 1, 1, 1, 1, 1, 0, 1, 1, 1, 1, 1, 1,\n",
       "       1, 1, 1, 1, 1, 0, 0, 1, 0, 1, 1, 1, 1, 1, 0, 0, 0, 0, 1, 0, 1, 0,\n",
       "       0, 1, 1, 1, 0, 1, 0, 1, 1, 1, 1, 1, 1, 1, 1, 1, 1, 1, 1, 1, 1, 1,\n",
       "       1, 1, 1, 1, 1, 0, 0, 0, 1, 1, 0, 1, 1, 1, 1, 1, 1, 0, 1, 1, 1, 1,\n",
       "       1, 0, 1, 1, 1, 1, 1, 1, 1, 1, 1, 1, 1, 0, 1, 1, 0, 1, 1, 1, 1, 1,\n",
       "       0, 1, 1, 1, 0, 1, 1, 1, 1, 0, 1, 1, 0, 1, 1, 1, 1, 0, 1])"
      ]
     },
     "execution_count": 15,
     "metadata": {},
     "output_type": "execute_result"
    }
   ],
   "source": [
    "#convert probabilities to class\n",
    "np.where(log_reg.predict(X) > 0.5, 1, 0)"
   ]
  },
  {
   "cell_type": "code",
   "execution_count": 9,
   "id": "f2a8e86d",
   "metadata": {},
   "outputs": [
    {
     "data": {
      "image/png": "[encoded data removed]",
      "text/plain": [
       "<Figure size 432x288 with 2 Axes>"
      ]
     },
     "metadata": {
      "needs_background": "light"
     },
     "output_type": "display_data"
    }
   ],
   "source": [
    "cm = confusion_matrix(y, np.where(log_reg.predict(X) > 0.5, 1, 0), labels=[0,1])\n",
    "disp = ConfusionMatrixDisplay(confusion_matrix=cm,\n",
    "                              display_labels=[0,1])\n",
    "disp.plot()\n",
    "plt.title(\"Confusion Matrix for Logistic Regression - statsmodel\")\n",
    "plt.show()"
   ]
  },
  {
   "cell_type": "code",
   "execution_count": 10,
   "id": "b5ef31b3",
   "metadata": {},
   "outputs": [
    {
     "name": "stdout",
     "output_type": "stream",
     "text": [
      "Log-likelihood ratio : 24.806967426587676\n"
     ]
    }
   ],
   "source": [
    "#Log-likelihood ratio\n",
    "print(\"Log-likelihood ratio :\",log_reg.llr)"
   ]
  }
 ],
 "metadata": {
  "kernelspec": {
   "display_name": "Python 3 (ipykernel)",
   "language": "python",
   "name": "python3"
  },
  "language_info": {
   "codemirror_mode": {
    "name": "ipython",
    "version": 3
   },
   "file_extension": ".py",
   "mimetype": "text/x-python",
   "name": "python",
   "nbconvert_exporter": "python",
   "pygments_lexer": "ipython3",
   "version": "3.9.12"
  }
 },
 "nbformat": 4,
 "nbformat_minor": 5
}
