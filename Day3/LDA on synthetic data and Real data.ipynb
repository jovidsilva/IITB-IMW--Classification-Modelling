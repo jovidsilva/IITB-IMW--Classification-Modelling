{
 "cells": [
  {
   "cell_type": "code",
   "execution_count": 1,
   "id": "af365a20",
   "metadata": {},
   "outputs": [],
   "source": [
    "#Import Libraries\n",
    "import matplotlib.pyplot as plt\n",
    "import matplotlib as mpl\n",
    "import numpy as np\n",
    "from scipy import linalg\n",
    "from sklearn.discriminant_analysis import LinearDiscriminantAnalysis\n",
    "from sklearn.metrics import confusion_matrix, ConfusionMatrixDisplay"
   ]
  },
  {
   "cell_type": "code",
   "execution_count": 2,
   "id": "e5b9ce3c",
   "metadata": {},
   "outputs": [],
   "source": [
    "def dataset_gen():\n",
    "    \"\"\"Generate 2 Gaussians samples with different covariance matrices\"\"\"\n",
    "    # Define size and dimension. \n",
    "    n, dim = 600, 2\n",
    "    # Set mean vector for class 0. \n",
    "    m_0 = np.array([0, 0]).reshape(2, 1)\n",
    "    # Set mean vector for class 1.\n",
    "    m_1 = np.array([1, 1]).reshape(2, 1)\n",
    "    # Set covariance function for class 0. \n",
    "    K_0 = np.array([[1, 0],\n",
    "                    [0, 1]])\n",
    "    # Set covariance function for class 1. \n",
    "    K_1 = np.array([[1, 0],\n",
    "                    [0, 1]])\n",
    "    # Generate multivariate_normal for class 0.\n",
    "    X_0 = np.random.multivariate_normal(mean=m_0.reshape(dim,), cov=K_0, size=n//2)\n",
    "    # Generate multivariate_normal for class 1.\n",
    "    X_1 = np.random.multivariate_normal(mean=m_1.reshape(dim,), cov=K_1, size=n//2)\n",
    "    # Join both classes \n",
    "    X = np.concatenate((X_0, X_1), axis=0)\n",
    "    # Generate appropriate class labels\n",
    "    # hstack and concatenate do the same thing for this senario\n",
    "    y = np.hstack((np.zeros(n//2), np.ones(n//2)))\n",
    "    return X, y"
   ]
  },
  {
   "cell_type": "code",
   "execution_count": 3,
   "id": "5f94feb8",
   "metadata": {},
   "outputs": [],
   "source": [
    "X,y=dataset_gen()"
   ]
  },
  {
   "cell_type": "code",
   "execution_count": 4,
   "id": "3b4d2a9e",
   "metadata": {},
   "outputs": [],
   "source": [
    "from matplotlib import colors\n",
    "cmap = colors.LinearSegmentedColormap(\n",
    "    \"red_blue_classes\",\n",
    "    {\n",
    "        \"red\": [(0, 1, 1), (1, 0.7, 0.7)],\n",
    "        \"green\": [(0, 0.7, 0.7), (1, 0.7, 0.7)],\n",
    "        \"blue\": [(0, 0.7, 0.7), (1, 1, 1)],\n",
    "    },\n",
    ")\n",
    "plt.cm.register_cmap(cmap=cmap)\n"
   ]
  },
  {
   "cell_type": "code",
   "execution_count": 5,
   "id": "2b183e06",
   "metadata": {},
   "outputs": [],
   "source": [
    "def plot_data(lda, X, y, y_pred, fig_index):\n",
    "    splot = plt.subplot(1, 1, fig_index)\n",
    "    if fig_index == 1:\n",
    "        plt.title(\"Linear Discriminant Analysis\")\n",
    "        plt.ylabel(\"Visualization of Decision Boundaries\")\n",
    "    tp = y == y_pred  # True Positive\n",
    "    tp0, tp1 = tp[y == 0], tp[y == 1]\n",
    "    X0, X1 = X[y == 0], X[y == 1]\n",
    "    X0_tp, X0_fp = X0[tp0], X0[~tp0]\n",
    "    X1_tp, X1_fp = X1[tp1], X1[~tp1]\n",
    "\n",
    "    # class 0: dots\n",
    "    plt.scatter(X0_tp[:, 0], X0_tp[:, 1], marker=\".\", color=\"red\")\n",
    "    plt.scatter(X0_fp[:, 0], X0_fp[:, 1], marker=\"x\", s=20, color=\"#990000\")  # dark red\n",
    "\n",
    "    # class 1: dots\n",
    "    plt.scatter(X1_tp[:, 0], X1_tp[:, 1], marker=\".\", color=\"blue\")\n",
    "    plt.scatter(\n",
    "        X1_fp[:, 0], X1_fp[:, 1], marker=\"x\", s=20, color=\"#000099\"\n",
    "    )  # dark blue\n",
    "\n",
    "    # class 0 and 1 : areas\n",
    "    nx, ny = 200, 100\n",
    "    x_min, x_max = plt.xlim()\n",
    "    y_min, y_max = plt.ylim()\n",
    "    xx, yy = np.meshgrid(np.linspace(x_min, x_max, nx), np.linspace(y_min, y_max, ny))\n",
    "    Z = lda.predict_proba(np.c_[xx.ravel(), yy.ravel()])\n",
    "    Z = Z[:, 1].reshape(xx.shape)\n",
    "    plt.pcolormesh(\n",
    "        xx, yy, Z, cmap=\"red_blue_classes\", norm=colors.Normalize(0.0, 1.0), zorder=0\n",
    "    )\n",
    "    plt.contour(xx, yy, Z, [0.5], linewidths=2.0, colors=\"white\")\n",
    "\n",
    "    # means\n",
    "    plt.plot(\n",
    "        lda.means_[0][0],\n",
    "        lda.means_[0][1],\n",
    "        \"*\",\n",
    "        color=\"yellow\",\n",
    "        markersize=15,\n",
    "        markeredgecolor=\"grey\",\n",
    "    )\n",
    "    plt.plot(\n",
    "        lda.means_[1][0],\n",
    "        lda.means_[1][1],\n",
    "        \"*\",\n",
    "        color=\"yellow\",\n",
    "        markersize=15,\n",
    "        markeredgecolor=\"grey\",\n",
    "    )\n",
    "\n",
    "    return splot\n"
   ]
  },
  {
   "cell_type": "code",
   "execution_count": 6,
   "id": "f2ccb03d",
   "metadata": {},
   "outputs": [],
   "source": [
    "def plot_ellipse(splot, mean, cov, color):\n",
    "    v, w = linalg.eigh(cov)\n",
    "    print('\\nEigen Values',v)\n",
    "    u = w[0] / linalg.norm(w[0])\n",
    "    angle = np.arctan(u[1] / u[0])\n",
    "    angle = 180 * angle / np.pi  # convert to degrees\n",
    "    # filled Gaussian at 2 standard deviation\n",
    "    ell = mpl.patches.Ellipse(\n",
    "        mean,\n",
    "        2 * v[0] ** 0.5,\n",
    "        2 * v[1] ** 0.5,\n",
    "        angle=180 + angle,\n",
    "        facecolor=color,\n",
    "        edgecolor=\"black\",\n",
    "        linewidth=2,\n",
    "    )\n",
    "    ell.set_clip_box(splot.bbox)\n",
    "    ell.set_alpha(0.2)\n",
    "    splot.add_artist(ell)\n",
    "    splot.set_xticks(())\n",
    "    splot.set_yticks(())\n",
    "        \n",
    "def plot_lda_cov(lda, splot):\n",
    "    print(\"LDA\\n\\n Covariance Matrix\\n\\n\",lda.covariance_,\"\\n\\n\",lda.covariance_)\n",
    "    plot_ellipse(splot, lda.means_[0], lda.covariance_, \"red\")\n",
    "    plot_ellipse(splot, lda.means_[1], lda.covariance_, \"blue\")\n",
    "    \n"
   ]
  },
  {
   "cell_type": "markdown",
   "id": "bd057efe",
   "metadata": {},
   "source": [
    "plt.figure(figsize=(13, 9), facecolor=\"white\")\n",
    "plt.suptitle(\n",
    "    \"Linear Discriminant Analysis vs Quadratic Discriminant Analysis\",\n",
    "    y=0.98,\n",
    "    fontsize=15,\n",
    ")\n",
    "for i, (X, y) in enumerate([dataset_gen()]): # use simulated data\n",
    "    # Linear Discriminant Analysis\n",
    "    lda = LinearDiscriminantAnalysis(solver=\"lsqr\", store_covariance=True)\n",
    "    y_pred_lda = lda.fit(X, y).predict(X)\n",
    "    splot = plot_data(lda, X, y, y_pred_lda, fig_index=1)\n",
    "    plot_lda_cov(lda, splot)\n",
    "    plt.axis(\"tight\")\n",
    "\n",
    "plt.tight_layout()\n",
    "plt.subplots_adjust(top=0.92)\n",
    "plt.show()"
   ]
  },
  {
   "cell_type": "code",
   "execution_count": 10,
   "id": "9728f61c",
   "metadata": {},
   "outputs": [
    {
     "data": {
      "image/png": "[encoded data removed]",
      "text/plain": [
       "<Figure size 432x288 with 2 Axes>"
      ]
     },
     "metadata": {
      "needs_background": "light"
     },
     "output_type": "display_data"
    }
   ],
   "source": [
    "cm = confusion_matrix(y, y_pred_lda, labels=lda.classes_)\n",
    "disp = ConfusionMatrixDisplay(confusion_matrix=cm,\n",
    "                              display_labels=lda.classes_)\n",
    "disp.plot()\n",
    "plt.title(\"Confusion Matrix for LDA\")\n",
    "plt.show()"
   ]
  },
  {
   "cell_type": "code",
   "execution_count": 9,
   "id": "31818fdf",
   "metadata": {},
   "outputs": [
    {
     "data": {
      "text/plain": [
       "0.018333333333333333"
      ]
     },
     "execution_count": 9,
     "metadata": {},
     "output_type": "execute_result"
    }
   ],
   "source": [
    "miss_class=(8+3)/600\n",
    "miss_class"
   ]
  },
  {
   "cell_type": "markdown",
   "id": "253ce821",
   "metadata": {},
   "source": [
    "# LDA on Rasin Data"
   ]
  },
  {
   "cell_type": "code",
   "execution_count": 11,
   "id": "43fba57b",
   "metadata": {},
   "outputs": [],
   "source": [
    "import pandas as pd"
   ]
  },
  {
   "cell_type": "code",
   "execution_count": 12,
   "id": "52819b39",
   "metadata": {},
   "outputs": [],
   "source": [
    "df = pd.read_excel('Raisin_Dataset _SVM.xlsx')"
   ]
  },
  {
   "cell_type": "code",
   "execution_count": 13,
   "id": "e76db353",
   "metadata": {},
   "outputs": [
    {
     "data": {
      "text/html": [
       "<div>\n",
       "<style scoped>\n",
       "    .dataframe tbody tr th:only-of-type {\n",
       "        vertical-align: middle;\n",
       "    }\n",
       "\n",
       "    .dataframe tbody tr th {\n",
       "        vertical-align: top;\n",
       "    }\n",
       "\n",
       "    .dataframe thead th {\n",
       "        text-align: right;\n",
       "    }\n",
       "</style>\n",
       "<table border=\"1\" class=\"dataframe\">\n",
       "  <thead>\n",
       "    <tr style=\"text-align: right;\">\n",
       "      <th></th>\n",
       "      <th>ar</th>\n",
       "      <th>majorAL</th>\n",
       "      <th>minorAL</th>\n",
       "      <th>ecc</th>\n",
       "      <th>conArea</th>\n",
       "      <th>extent</th>\n",
       "      <th>peri</th>\n",
       "      <th>class</th>\n",
       "    </tr>\n",
       "  </thead>\n",
       "  <tbody>\n",
       "    <tr>\n",
       "      <th>0</th>\n",
       "      <td>87524</td>\n",
       "      <td>442.246011</td>\n",
       "      <td>253.291155</td>\n",
       "      <td>0.819738</td>\n",
       "      <td>90546</td>\n",
       "      <td>0.758651</td>\n",
       "      <td>1184.040</td>\n",
       "      <td>0</td>\n",
       "    </tr>\n",
       "    <tr>\n",
       "      <th>1</th>\n",
       "      <td>75166</td>\n",
       "      <td>406.690687</td>\n",
       "      <td>243.032436</td>\n",
       "      <td>0.801805</td>\n",
       "      <td>78789</td>\n",
       "      <td>0.684130</td>\n",
       "      <td>1121.786</td>\n",
       "      <td>0</td>\n",
       "    </tr>\n",
       "    <tr>\n",
       "      <th>2</th>\n",
       "      <td>90856</td>\n",
       "      <td>442.267048</td>\n",
       "      <td>266.328318</td>\n",
       "      <td>0.798354</td>\n",
       "      <td>93717</td>\n",
       "      <td>0.637613</td>\n",
       "      <td>1208.575</td>\n",
       "      <td>0</td>\n",
       "    </tr>\n",
       "    <tr>\n",
       "      <th>3</th>\n",
       "      <td>45928</td>\n",
       "      <td>286.540559</td>\n",
       "      <td>208.760042</td>\n",
       "      <td>0.684989</td>\n",
       "      <td>47336</td>\n",
       "      <td>0.699599</td>\n",
       "      <td>844.162</td>\n",
       "      <td>0</td>\n",
       "    </tr>\n",
       "    <tr>\n",
       "      <th>4</th>\n",
       "      <td>79408</td>\n",
       "      <td>352.190770</td>\n",
       "      <td>290.827533</td>\n",
       "      <td>0.564011</td>\n",
       "      <td>81463</td>\n",
       "      <td>0.792772</td>\n",
       "      <td>1073.251</td>\n",
       "      <td>0</td>\n",
       "    </tr>\n",
       "    <tr>\n",
       "      <th>...</th>\n",
       "      <td>...</td>\n",
       "      <td>...</td>\n",
       "      <td>...</td>\n",
       "      <td>...</td>\n",
       "      <td>...</td>\n",
       "      <td>...</td>\n",
       "      <td>...</td>\n",
       "      <td>...</td>\n",
       "    </tr>\n",
       "    <tr>\n",
       "      <th>895</th>\n",
       "      <td>83248</td>\n",
       "      <td>430.077308</td>\n",
       "      <td>247.838695</td>\n",
       "      <td>0.817263</td>\n",
       "      <td>85839</td>\n",
       "      <td>0.668793</td>\n",
       "      <td>1129.072</td>\n",
       "      <td>1</td>\n",
       "    </tr>\n",
       "    <tr>\n",
       "      <th>896</th>\n",
       "      <td>87350</td>\n",
       "      <td>440.735698</td>\n",
       "      <td>259.293149</td>\n",
       "      <td>0.808629</td>\n",
       "      <td>90899</td>\n",
       "      <td>0.636476</td>\n",
       "      <td>1214.252</td>\n",
       "      <td>1</td>\n",
       "    </tr>\n",
       "    <tr>\n",
       "      <th>897</th>\n",
       "      <td>99657</td>\n",
       "      <td>431.706981</td>\n",
       "      <td>298.837323</td>\n",
       "      <td>0.721684</td>\n",
       "      <td>106264</td>\n",
       "      <td>0.741099</td>\n",
       "      <td>1292.828</td>\n",
       "      <td>1</td>\n",
       "    </tr>\n",
       "    <tr>\n",
       "      <th>898</th>\n",
       "      <td>93523</td>\n",
       "      <td>476.344094</td>\n",
       "      <td>254.176054</td>\n",
       "      <td>0.845739</td>\n",
       "      <td>97653</td>\n",
       "      <td>0.658798</td>\n",
       "      <td>1258.548</td>\n",
       "      <td>1</td>\n",
       "    </tr>\n",
       "    <tr>\n",
       "      <th>899</th>\n",
       "      <td>85609</td>\n",
       "      <td>512.081774</td>\n",
       "      <td>215.271976</td>\n",
       "      <td>0.907345</td>\n",
       "      <td>89197</td>\n",
       "      <td>0.632020</td>\n",
       "      <td>1272.862</td>\n",
       "      <td>1</td>\n",
       "    </tr>\n",
       "  </tbody>\n",
       "</table>\n",
       "<p>900 rows × 8 columns</p>\n",
       "</div>"
      ],
      "text/plain": [
       "        ar     majorAL     minorAL       ecc  conArea    extent      peri  \\\n",
       "0    87524  442.246011  253.291155  0.819738    90546  0.758651  1184.040   \n",
       "1    75166  406.690687  243.032436  0.801805    78789  0.684130  1121.786   \n",
       "2    90856  442.267048  266.328318  0.798354    93717  0.637613  1208.575   \n",
       "3    45928  286.540559  208.760042  0.684989    47336  0.699599   844.162   \n",
       "4    79408  352.190770  290.827533  0.564011    81463  0.792772  1073.251   \n",
       "..     ...         ...         ...       ...      ...       ...       ...   \n",
       "895  83248  430.077308  247.838695  0.817263    85839  0.668793  1129.072   \n",
       "896  87350  440.735698  259.293149  0.808629    90899  0.636476  1214.252   \n",
       "897  99657  431.706981  298.837323  0.721684   106264  0.741099  1292.828   \n",
       "898  93523  476.344094  254.176054  0.845739    97653  0.658798  1258.548   \n",
       "899  85609  512.081774  215.271976  0.907345    89197  0.632020  1272.862   \n",
       "\n",
       "     class  \n",
       "0        0  \n",
       "1        0  \n",
       "2        0  \n",
       "3        0  \n",
       "4        0  \n",
       "..     ...  \n",
       "895      1  \n",
       "896      1  \n",
       "897      1  \n",
       "898      1  \n",
       "899      1  \n",
       "\n",
       "[900 rows x 8 columns]"
      ]
     },
     "execution_count": 13,
     "metadata": {},
     "output_type": "execute_result"
    }
   ],
   "source": [
    "df"
   ]
  },
  {
   "cell_type": "code",
   "execution_count": 15,
   "id": "772379be",
   "metadata": {},
   "outputs": [
    {
     "data": {
      "text/html": [
       "<div>\n",
       "<style scoped>\n",
       "    .dataframe tbody tr th:only-of-type {\n",
       "        vertical-align: middle;\n",
       "    }\n",
       "\n",
       "    .dataframe tbody tr th {\n",
       "        vertical-align: top;\n",
       "    }\n",
       "\n",
       "    .dataframe thead th {\n",
       "        text-align: right;\n",
       "    }\n",
       "</style>\n",
       "<table border=\"1\" class=\"dataframe\">\n",
       "  <thead>\n",
       "    <tr style=\"text-align: right;\">\n",
       "      <th></th>\n",
       "      <th>ar</th>\n",
       "      <th>majorAL</th>\n",
       "      <th>class</th>\n",
       "    </tr>\n",
       "  </thead>\n",
       "  <tbody>\n",
       "    <tr>\n",
       "      <th>0</th>\n",
       "      <td>87524</td>\n",
       "      <td>442.246011</td>\n",
       "      <td>0</td>\n",
       "    </tr>\n",
       "    <tr>\n",
       "      <th>1</th>\n",
       "      <td>75166</td>\n",
       "      <td>406.690687</td>\n",
       "      <td>0</td>\n",
       "    </tr>\n",
       "    <tr>\n",
       "      <th>2</th>\n",
       "      <td>90856</td>\n",
       "      <td>442.267048</td>\n",
       "      <td>0</td>\n",
       "    </tr>\n",
       "    <tr>\n",
       "      <th>3</th>\n",
       "      <td>45928</td>\n",
       "      <td>286.540559</td>\n",
       "      <td>0</td>\n",
       "    </tr>\n",
       "    <tr>\n",
       "      <th>4</th>\n",
       "      <td>79408</td>\n",
       "      <td>352.190770</td>\n",
       "      <td>0</td>\n",
       "    </tr>\n",
       "    <tr>\n",
       "      <th>...</th>\n",
       "      <td>...</td>\n",
       "      <td>...</td>\n",
       "      <td>...</td>\n",
       "    </tr>\n",
       "    <tr>\n",
       "      <th>895</th>\n",
       "      <td>83248</td>\n",
       "      <td>430.077308</td>\n",
       "      <td>1</td>\n",
       "    </tr>\n",
       "    <tr>\n",
       "      <th>896</th>\n",
       "      <td>87350</td>\n",
       "      <td>440.735698</td>\n",
       "      <td>1</td>\n",
       "    </tr>\n",
       "    <tr>\n",
       "      <th>897</th>\n",
       "      <td>99657</td>\n",
       "      <td>431.706981</td>\n",
       "      <td>1</td>\n",
       "    </tr>\n",
       "    <tr>\n",
       "      <th>898</th>\n",
       "      <td>93523</td>\n",
       "      <td>476.344094</td>\n",
       "      <td>1</td>\n",
       "    </tr>\n",
       "    <tr>\n",
       "      <th>899</th>\n",
       "      <td>85609</td>\n",
       "      <td>512.081774</td>\n",
       "      <td>1</td>\n",
       "    </tr>\n",
       "  </tbody>\n",
       "</table>\n",
       "<p>900 rows × 3 columns</p>\n",
       "</div>"
      ],
      "text/plain": [
       "        ar     majorAL  class\n",
       "0    87524  442.246011      0\n",
       "1    75166  406.690687      0\n",
       "2    90856  442.267048      0\n",
       "3    45928  286.540559      0\n",
       "4    79408  352.190770      0\n",
       "..     ...         ...    ...\n",
       "895  83248  430.077308      1\n",
       "896  87350  440.735698      1\n",
       "897  99657  431.706981      1\n",
       "898  93523  476.344094      1\n",
       "899  85609  512.081774      1\n",
       "\n",
       "[900 rows x 3 columns]"
      ]
     },
     "execution_count": 15,
     "metadata": {},
     "output_type": "execute_result"
    }
   ],
   "source": [
    "selected_features = ['ar','majorAL','class']\n",
    "df2=df[selected_features]\n",
    "df2"
   ]
  },
  {
   "cell_type": "code",
   "execution_count": 16,
   "id": "5be97c44",
   "metadata": {},
   "outputs": [
    {
     "data": {
      "text/plain": [
       "ar         63413.466667\n",
       "majorAL      352.859249\n",
       "class          0.000000\n",
       "dtype: float64"
      ]
     },
     "execution_count": 16,
     "metadata": {},
     "output_type": "execute_result"
    }
   ],
   "source": [
    "df2[df2['class'] == 0].mean()"
   ]
  },
  {
   "cell_type": "code",
   "execution_count": 17,
   "id": "bc10f054",
   "metadata": {},
   "outputs": [
    {
     "data": {
      "text/plain": [
       "ar         112194.788889\n",
       "majorAL       509.000652\n",
       "class           1.000000\n",
       "dtype: float64"
      ]
     },
     "execution_count": 17,
     "metadata": {},
     "output_type": "execute_result"
    }
   ],
   "source": [
    "df2[df2['class'] == 1].mean()"
   ]
  },
  {
   "cell_type": "code",
   "execution_count": 22,
   "id": "4d8a0097",
   "metadata": {},
   "outputs": [],
   "source": [
    "cov_c0=df2[df2['class'] == 0].cov()\n",
    "cov_c1=df2[df2['class'] == 1].cov()"
   ]
  },
  {
   "cell_type": "code",
   "execution_count": 23,
   "id": "ce08e7ed",
   "metadata": {},
   "outputs": [
    {
     "data": {
      "text/latex": [
       "$\\displaystyle \\left[\\begin{matrix}314273786.436526 & 948747.383184402\\\\948747.383184402 & 3553.5301639518\\end{matrix}\\right]$"
      ],
      "text/plain": [
       "Matrix([\n",
       "[314273786.436526, 948747.383184402],\n",
       "[948747.383184402,  3553.5301639518]])"
      ]
     },
     "execution_count": 23,
     "metadata": {},
     "output_type": "execute_result"
    }
   ],
   "source": [
    "import sympy as sp\n",
    "sp.Matrix(cov_c0.iloc[:2,:2])"
   ]
  },
  {
   "cell_type": "code",
   "execution_count": 24,
   "id": "c4788683",
   "metadata": {},
   "outputs": [
    {
     "data": {
      "text/latex": [
       "$\\displaystyle \\left[\\begin{matrix}1538984887.08005 & 3686535.70747273\\\\3686535.70747273 & 11187.5370004231\\end{matrix}\\right]$"
      ],
      "text/plain": [
       "Matrix([\n",
       "[1538984887.08005, 3686535.70747273],\n",
       "[3686535.70747273, 11187.5370004231]])"
      ]
     },
     "execution_count": 24,
     "metadata": {},
     "output_type": "execute_result"
    }
   ],
   "source": [
    "sp.Matrix(cov_c1.iloc[:2,:2])"
   ]
  },
  {
   "cell_type": "code",
   "execution_count": 27,
   "id": "ccd49eaa",
   "metadata": {},
   "outputs": [
    {
     "name": "stdout",
     "output_type": "stream",
     "text": [
      "[3.14276651e+08 6.89391917e+02]\n"
     ]
    }
   ],
   "source": [
    "eigen_val, eigen_vec = np.linalg.eig(cov_c0)\n",
    "print(eigen_val[:-1])"
   ]
  },
  {
   "cell_type": "code",
   "execution_count": 28,
   "id": "fe6b042f",
   "metadata": {},
   "outputs": [
    {
     "name": "stdout",
     "output_type": "stream",
     "text": [
      "[1.53899372e+09 2.35667294e+03]\n"
     ]
    }
   ],
   "source": [
    "eigen_val, eigen_vec = np.linalg.eig(cov_c1)\n",
    "print(eigen_val[:-1])"
   ]
  },
  {
   "cell_type": "code",
   "execution_count": 37,
   "id": "616dcb81",
   "metadata": {},
   "outputs": [
    {
     "data": {
      "image/png": "[encoded data removed]",
      "text/plain": [
       "<Figure size 432x288 with 1 Axes>"
      ]
     },
     "metadata": {
      "needs_background": "light"
     },
     "output_type": "display_data"
    },
    {
     "data": {
      "image/png": "[encoded data removed]",
      "text/plain": [
       "<Figure size 432x288 with 1 Axes>"
      ]
     },
     "metadata": {
      "needs_background": "light"
     },
     "output_type": "display_data"
    },
    {
     "data": {
      "image/png": "[encoded data removed]",
      "text/plain": [
       "<Figure size 432x288 with 1 Axes>"
      ]
     },
     "metadata": {
      "needs_background": "light"
     },
     "output_type": "display_data"
    },
    {
     "data": {
      "image/png": "[encoded data removed]",
      "text/plain": [
       "<Figure size 432x288 with 1 Axes>"
      ]
     },
     "metadata": {
      "needs_background": "light"
     },
     "output_type": "display_data"
    }
   ],
   "source": [
    "plt.hist(np.log(df2.loc[df2['class'] == 0,'ar']),bins=20)\n",
    "plt.show()\n",
    "\n",
    "plt.hist(np.log(df2.loc[df2['class'] == 1,'ar']),bins=20)\n",
    "plt.show()\n",
    "\n",
    "plt.hist(np.log(df2.loc[df2['class'] == 0,'majorAL']),bins=20)\n",
    "plt.show()\n",
    "\n",
    "plt.hist(np.log(df2.loc[df2['class'] == 1,'majorAL']),bins=20)\n",
    "plt.show()"
   ]
  },
  {
   "cell_type": "code",
   "execution_count": 29,
   "id": "2ccf4dd7",
   "metadata": {},
   "outputs": [
    {
     "name": "stdout",
     "output_type": "stream",
     "text": [
      "LDA\n",
      "\n",
      " Covariance Matrix\n",
      "\n",
      " [[9.24570160e+08 2.31249123e+06]\n",
      " [2.31249123e+06 7.35415462e+03]] \n",
      "\n",
      " [[9.24570160e+08 2.31249123e+06]\n",
      " [2.31249123e+06 7.35415462e+03]]\n",
      "\n",
      "Eigen Values [1.57025092e+03 9.24575944e+08]\n",
      "\n",
      "Eigen Values [1.57025092e+03 9.24575944e+08]\n"
     ]
    },
    {
     "data": {
      "image/png": "[encoded data removed]",
      "text/plain": [
       "<Figure size 936x648 with 1 Axes>"
      ]
     },
     "metadata": {},
     "output_type": "display_data"
    }
   ],
   "source": [
    "plt.figure(figsize=(13, 9), facecolor=\"white\")\n",
    "plt.suptitle(\n",
    "    \"Linear Discriminant Analysis vs Quadratic Discriminant Analysis\",\n",
    "    y=0.98,\n",
    "    fontsize=15,\n",
    ")\n",
    "\n",
    "def dataset():\n",
    "    X=df2[selected_features[:-1]].to_numpy()\n",
    "    y=df2['class'].to_numpy()\n",
    "    return X,y\n",
    "\n",
    "\n",
    "for i, (X, y) in enumerate([dataset()]): # use real data\n",
    "    # Linear Discriminant Analysis\n",
    "    lda = LinearDiscriminantAnalysis(solver=\"lsqr\", store_covariance=True)\n",
    "    y_pred_lda = lda.fit(X, y).predict(X)\n",
    "    splot = plot_data(lda, X, y, y_pred_lda, fig_index=1)\n",
    "    plot_lda_cov(lda, splot)\n",
    "    plt.axis(\"tight\")\n",
    "\n",
    "plt.tight_layout()\n",
    "plt.subplots_adjust(top=0.92)\n",
    "plt.show()"
   ]
  },
  {
   "cell_type": "code",
   "execution_count": 30,
   "id": "a964b9e1",
   "metadata": {},
   "outputs": [
    {
     "data": {
      "image/png": "[encoded data removed]",
      "text/plain": [
       "<Figure size 432x288 with 2 Axes>"
      ]
     },
     "metadata": {
      "needs_background": "light"
     },
     "output_type": "display_data"
    }
   ],
   "source": [
    "cm = confusion_matrix(y, y_pred_lda, labels=lda.classes_)\n",
    "disp = ConfusionMatrixDisplay(confusion_matrix=cm,\n",
    "                              display_labels=lda.classes_)\n",
    "disp.plot()\n",
    "plt.title(\"Confusion Matrix for LDA\")\n",
    "plt.show()"
   ]
  },
  {
   "cell_type": "code",
   "execution_count": null,
   "id": "4b917712",
   "metadata": {},
   "outputs": [],
   "source": []
  }
 ],
 "metadata": {
  "kernelspec": {
   "display_name": "Python 3 (ipykernel)",
   "language": "python",
   "name": "python3"
  },
  "language_info": {
   "codemirror_mode": {
    "name": "ipython",
    "version": 3
   },
   "file_extension": ".py",
   "mimetype": "text/x-python",
   "name": "python",
   "nbconvert_exporter": "python",
   "pygments_lexer": "ipython3",
   "version": "3.9.12"
  }
 },
 "nbformat": 4,
 "nbformat_minor": 5
}
