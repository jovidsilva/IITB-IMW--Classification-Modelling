{
 "cells": [
  {
   "cell_type": "code",
   "execution_count": 1,
   "id": "8c6b5fd0",
   "metadata": {},
   "outputs": [],
   "source": [
    "import os\n"
   ]
  },
  {
   "cell_type": "code",
   "execution_count": 2,
   "id": "2ab92c63",
   "metadata": {},
   "outputs": [],
   "source": [
    "os.chdir(\"D:\\lab session\\day1\")"
   ]
  },
  {
   "cell_type": "code",
   "execution_count": 3,
   "id": "e6468f75",
   "metadata": {},
   "outputs": [
    {
     "data": {
      "text/plain": [
       "'D:\\\\lab session\\\\day1'"
      ]
     },
     "execution_count": 3,
     "metadata": {},
     "output_type": "execute_result"
    }
   ],
   "source": [
    "os.getcwd()"
   ]
  },
  {
   "cell_type": "code",
   "execution_count": 4,
   "id": "92be0526",
   "metadata": {},
   "outputs": [],
   "source": [
    "import numpy as np\n",
    "import sympy as sp"
   ]
  },
  {
   "cell_type": "code",
   "execution_count": 6,
   "id": "4b2be935",
   "metadata": {},
   "outputs": [],
   "source": [
    "A = [[0,2],[6,4]]\n",
    "A_array = np.array(A)"
   ]
  },
  {
   "cell_type": "code",
   "execution_count": 7,
   "id": "a6f8245a",
   "metadata": {},
   "outputs": [
    {
     "data": {
      "text/plain": [
       "array([[0, 2],\n",
       "       [6, 4]])"
      ]
     },
     "execution_count": 7,
     "metadata": {},
     "output_type": "execute_result"
    }
   ],
   "source": [
    "A_array"
   ]
  },
  {
   "cell_type": "code",
   "execution_count": 8,
   "id": "993f0a40",
   "metadata": {},
   "outputs": [
    {
     "data": {
      "text/latex": [
       "$\\displaystyle \\left[\\begin{matrix}0 & 2\\\\6 & 4\\end{matrix}\\right]$"
      ],
      "text/plain": [
       "Matrix([\n",
       "[0, 2],\n",
       "[6, 4]])"
      ]
     },
     "execution_count": 8,
     "metadata": {},
     "output_type": "execute_result"
    }
   ],
   "source": [
    "A_mat = np.matrix(A_array)\n",
    "sp.Matrix(A_mat)"
   ]
  },
  {
   "cell_type": "code",
   "execution_count": 9,
   "id": "caea4c1e",
   "metadata": {},
   "outputs": [
    {
     "data": {
      "text/plain": [
       "matrix([[0, 6],\n",
       "        [2, 4]])"
      ]
     },
     "execution_count": 9,
     "metadata": {},
     "output_type": "execute_result"
    }
   ],
   "source": [
    "A_T = np.transpose(A_mat)\n",
    "A_T"
   ]
  },
  {
   "cell_type": "code",
   "execution_count": 10,
   "id": "517bbce9",
   "metadata": {},
   "outputs": [
    {
     "data": {
      "text/latex": [
       "$\\displaystyle \\left[\\begin{matrix}0 & 6\\\\2 & 4\\end{matrix}\\right]$"
      ],
      "text/plain": [
       "Matrix([\n",
       "[0, 6],\n",
       "[2, 4]])"
      ]
     },
     "execution_count": 10,
     "metadata": {},
     "output_type": "execute_result"
    }
   ],
   "source": [
    "sp.Matrix(A_T)"
   ]
  },
  {
   "cell_type": "code",
   "execution_count": 11,
   "id": "8a990bd5",
   "metadata": {},
   "outputs": [
    {
     "data": {
      "text/plain": [
       "matrix([[ 0, 10],\n",
       "        [30, 20]])"
      ]
     },
     "execution_count": 11,
     "metadata": {},
     "output_type": "execute_result"
    }
   ],
   "source": [
    "A_mat*5"
   ]
  },
  {
   "cell_type": "code",
   "execution_count": 12,
   "id": "d5248774",
   "metadata": {},
   "outputs": [
    {
     "data": {
      "text/latex": [
       "$\\displaystyle \\left[\\begin{matrix}0 & 10\\\\30 & 20\\end{matrix}\\right]$"
      ],
      "text/plain": [
       "Matrix([\n",
       "[ 0, 10],\n",
       "[30, 20]])"
      ]
     },
     "execution_count": 12,
     "metadata": {},
     "output_type": "execute_result"
    }
   ],
   "source": [
    "sp.Matrix(A_mat*5)"
   ]
  },
  {
   "cell_type": "code",
   "execution_count": 15,
   "id": "92c8d7b7",
   "metadata": {},
   "outputs": [],
   "source": [
    "B = [[9,7],[7,8]]\n",
    "B_mat = np.matrix(np.array(B))"
   ]
  },
  {
   "cell_type": "code",
   "execution_count": 16,
   "id": "7e6a05dd",
   "metadata": {},
   "outputs": [
    {
     "data": {
      "text/latex": [
       "$\\displaystyle \\left[\\begin{matrix}9 & 7\\\\7 & 8\\end{matrix}\\right]$"
      ],
      "text/plain": [
       "Matrix([\n",
       "[9, 7],\n",
       "[7, 8]])"
      ]
     },
     "execution_count": 16,
     "metadata": {},
     "output_type": "execute_result"
    }
   ],
   "source": [
    "sp.Matrix(B_mat)"
   ]
  },
  {
   "cell_type": "code",
   "execution_count": 17,
   "id": "5b47d10c",
   "metadata": {},
   "outputs": [
    {
     "data": {
      "text/latex": [
       "$\\displaystyle \\left[\\begin{matrix}0 & 2\\\\6 & 4\\end{matrix}\\right]$"
      ],
      "text/plain": [
       "Matrix([\n",
       "[0, 2],\n",
       "[6, 4]])"
      ]
     },
     "execution_count": 17,
     "metadata": {},
     "output_type": "execute_result"
    }
   ],
   "source": [
    "sp.Matrix(A_mat)"
   ]
  },
  {
   "cell_type": "code",
   "execution_count": 18,
   "id": "c81abf00",
   "metadata": {},
   "outputs": [
    {
     "data": {
      "text/plain": [
       "matrix([[ 9,  9],\n",
       "        [13, 12]])"
      ]
     },
     "execution_count": 18,
     "metadata": {},
     "output_type": "execute_result"
    }
   ],
   "source": [
    "A_mat + B_mat"
   ]
  },
  {
   "cell_type": "code",
   "execution_count": 20,
   "id": "37a6d252",
   "metadata": {},
   "outputs": [
    {
     "data": {
      "text/latex": [
       "$\\displaystyle \\left[\\begin{matrix}9 & 9\\\\13 & 12\\end{matrix}\\right]$"
      ],
      "text/plain": [
       "Matrix([\n",
       "[ 9,  9],\n",
       "[13, 12]])"
      ]
     },
     "execution_count": 20,
     "metadata": {},
     "output_type": "execute_result"
    }
   ],
   "source": [
    "sp.Matrix(A_mat + B_mat)"
   ]
  },
  {
   "cell_type": "code",
   "execution_count": 25,
   "id": "11288d8c",
   "metadata": {},
   "outputs": [
    {
     "data": {
      "text/plain": [
       "2"
      ]
     },
     "execution_count": 25,
     "metadata": {},
     "output_type": "execute_result"
    }
   ],
   "source": [
    "np.linalg.matrix_rank(A_mat + B_mat)"
   ]
  },
  {
   "cell_type": "code",
   "execution_count": 24,
   "id": "e67a327b",
   "metadata": {},
   "outputs": [
    {
     "data": {
      "text/plain": [
       "-12.0"
      ]
     },
     "execution_count": 24,
     "metadata": {},
     "output_type": "execute_result"
    }
   ],
   "source": [
    "np.linalg.det(A_mat)"
   ]
  },
  {
   "cell_type": "code",
   "execution_count": 28,
   "id": "a2a0235f",
   "metadata": {},
   "outputs": [],
   "source": [
    "A_inv=np.linalg.inv(A_mat)"
   ]
  },
  {
   "cell_type": "code",
   "execution_count": 29,
   "id": "c7002ee0",
   "metadata": {},
   "outputs": [
    {
     "data": {
      "text/latex": [
       "$\\displaystyle \\left[\\begin{matrix}-0.333333333333333 & 0.166666666666667\\\\0.5 & 0\\end{matrix}\\right]$"
      ],
      "text/plain": [
       "Matrix([\n",
       "[-0.333333333333333, 0.166666666666667],\n",
       "[               0.5,                 0]])"
      ]
     },
     "execution_count": 29,
     "metadata": {},
     "output_type": "execute_result"
    }
   ],
   "source": [
    "sp.Matrix(A_inv)"
   ]
  },
  {
   "cell_type": "code",
   "execution_count": 31,
   "id": "39009b98",
   "metadata": {},
   "outputs": [],
   "source": [
    "A_id=np.dot(A_mat,A_inv)"
   ]
  },
  {
   "cell_type": "code",
   "execution_count": 32,
   "id": "3c73d25b",
   "metadata": {},
   "outputs": [
    {
     "data": {
      "text/latex": [
       "$\\displaystyle \\left[\\begin{matrix}1.0 & 0\\\\0 & 1.0\\end{matrix}\\right]$"
      ],
      "text/plain": [
       "Matrix([\n",
       "[1.0,   0],\n",
       "[  0, 1.0]])"
      ]
     },
     "execution_count": 32,
     "metadata": {},
     "output_type": "execute_result"
    }
   ],
   "source": [
    "sp.Matrix(A_id)"
   ]
  },
  {
   "cell_type": "code",
   "execution_count": 33,
   "id": "30b951f4",
   "metadata": {},
   "outputs": [],
   "source": [
    "A_sym = (A_mat + np.transpose(A_mat))/2"
   ]
  },
  {
   "cell_type": "code",
   "execution_count": 34,
   "id": "fdf9b62b",
   "metadata": {},
   "outputs": [
    {
     "data": {
      "text/latex": [
       "$\\displaystyle \\left[\\begin{matrix}0 & 4.0\\\\4.0 & 4.0\\end{matrix}\\right]$"
      ],
      "text/plain": [
       "Matrix([\n",
       "[  0, 4.0],\n",
       "[4.0, 4.0]])"
      ]
     },
     "execution_count": 34,
     "metadata": {},
     "output_type": "execute_result"
    }
   ],
   "source": [
    "sp.Matrix(A_sym)"
   ]
  },
  {
   "cell_type": "code",
   "execution_count": 35,
   "id": "589e7169",
   "metadata": {},
   "outputs": [
    {
     "data": {
      "text/plain": [
       "2"
      ]
     },
     "execution_count": 35,
     "metadata": {},
     "output_type": "execute_result"
    }
   ],
   "source": [
    "np.linalg.matrix_rank(A_sym)"
   ]
  },
  {
   "cell_type": "code",
   "execution_count": 36,
   "id": "54ae474e",
   "metadata": {},
   "outputs": [],
   "source": [
    "a_eig, a_evec = np.linalg.eig(A_sym)"
   ]
  },
  {
   "cell_type": "code",
   "execution_count": 37,
   "id": "097a2d78",
   "metadata": {},
   "outputs": [
    {
     "data": {
      "text/plain": [
       "array([-2.47213595,  6.47213595])"
      ]
     },
     "execution_count": 37,
     "metadata": {},
     "output_type": "execute_result"
    }
   ],
   "source": [
    "a_eig"
   ]
  },
  {
   "cell_type": "code",
   "execution_count": 38,
   "id": "95f133c9",
   "metadata": {},
   "outputs": [
    {
     "data": {
      "text/plain": [
       "matrix([[-0.85065081, -0.52573111],\n",
       "        [ 0.52573111, -0.85065081]])"
      ]
     },
     "execution_count": 38,
     "metadata": {},
     "output_type": "execute_result"
    }
   ],
   "source": [
    "a_evec"
   ]
  },
  {
   "cell_type": "code",
   "execution_count": 39,
   "id": "8bc38c4f",
   "metadata": {},
   "outputs": [
    {
     "name": "stdout",
     "output_type": "stream",
     "text": [
      "(array([-2.47213595,  6.47213595]), matrix([[-0.85065081, -0.52573111],\n",
      "        [ 0.52573111, -0.85065081]]))\n"
     ]
    }
   ],
   "source": [
    "print(np.linalg.eig(A_sym))"
   ]
  },
  {
   "cell_type": "code",
   "execution_count": 40,
   "id": "4f2bc530",
   "metadata": {},
   "outputs": [],
   "source": [
    "A_new=np.dot(A_mat,np.transpose(A_mat))"
   ]
  },
  {
   "cell_type": "code",
   "execution_count": 41,
   "id": "a3b188bd",
   "metadata": {},
   "outputs": [
    {
     "data": {
      "text/latex": [
       "$\\displaystyle \\left[\\begin{matrix}4 & 8\\\\8 & 52\\end{matrix}\\right]$"
      ],
      "text/plain": [
       "Matrix([\n",
       "[4,  8],\n",
       "[8, 52]])"
      ]
     },
     "execution_count": 41,
     "metadata": {},
     "output_type": "execute_result"
    }
   ],
   "source": [
    "sp.Matrix(A_new)"
   ]
  },
  {
   "cell_type": "code",
   "execution_count": 42,
   "id": "70319844",
   "metadata": {},
   "outputs": [],
   "source": [
    "a_eig, a_evec = np.linalg.eig(A_new)"
   ]
  },
  {
   "cell_type": "code",
   "execution_count": 43,
   "id": "0d19c3ef",
   "metadata": {},
   "outputs": [
    {
     "data": {
      "text/plain": [
       "array([ 2.70177872, 53.29822128])"
      ]
     },
     "execution_count": 43,
     "metadata": {},
     "output_type": "execute_result"
    }
   ],
   "source": [
    "a_eig"
   ]
  },
  {
   "cell_type": "code",
   "execution_count": 44,
   "id": "550c01fb",
   "metadata": {},
   "outputs": [
    {
     "data": {
      "text/plain": [
       "matrix([[-0.98708746, -0.16018224],\n",
       "        [ 0.16018224, -0.98708746]])"
      ]
     },
     "execution_count": 44,
     "metadata": {},
     "output_type": "execute_result"
    }
   ],
   "source": [
    "a_evec"
   ]
  },
  {
   "cell_type": "code",
   "execution_count": 45,
   "id": "6d949436",
   "metadata": {},
   "outputs": [],
   "source": [
    "Lambda = np.diag(a_eig)"
   ]
  },
  {
   "cell_type": "code",
   "execution_count": 46,
   "id": "39f7c8b7",
   "metadata": {},
   "outputs": [
    {
     "data": {
      "text/latex": [
       "$\\displaystyle \\left[\\begin{matrix}2.70177871865297 & 0\\\\0 & 53.298221281347\\end{matrix}\\right]$"
      ],
      "text/plain": [
       "Matrix([\n",
       "[2.70177871865297,               0],\n",
       "[               0, 53.298221281347]])"
      ]
     },
     "execution_count": 46,
     "metadata": {},
     "output_type": "execute_result"
    }
   ],
   "source": [
    "sp.Matrix(Lambda)"
   ]
  },
  {
   "cell_type": "code",
   "execution_count": 47,
   "id": "41c15881",
   "metadata": {},
   "outputs": [],
   "source": [
    "P = a_evec"
   ]
  },
  {
   "cell_type": "code",
   "execution_count": 48,
   "id": "817580cc",
   "metadata": {},
   "outputs": [
    {
     "data": {
      "text/latex": [
       "$\\displaystyle \\left[\\begin{matrix}-0.987087457637497 & -0.160182243006967\\\\0.160182243006967 & -0.987087457637497\\end{matrix}\\right]$"
      ],
      "text/plain": [
       "Matrix([\n",
       "[-0.987087457637497, -0.160182243006967],\n",
       "[ 0.160182243006967, -0.987087457637497]])"
      ]
     },
     "execution_count": 48,
     "metadata": {},
     "output_type": "execute_result"
    }
   ],
   "source": [
    "sp.Matrix(P)"
   ]
  },
  {
   "cell_type": "code",
   "execution_count": 50,
   "id": "7468c7dd",
   "metadata": {},
   "outputs": [
    {
     "data": {
      "text/latex": [
       "$\\displaystyle \\left[\\begin{matrix}1.0 & 5.42012381150499 \\cdot 10^{-18}\\\\5.42012381150499 \\cdot 10^{-18} & 1.0\\end{matrix}\\right]$"
      ],
      "text/plain": [
       "Matrix([\n",
       "[                 1.0, 5.42012381150499e-18],\n",
       "[5.42012381150499e-18,                  1.0]])"
      ]
     },
     "execution_count": 50,
     "metadata": {},
     "output_type": "execute_result"
    }
   ],
   "source": [
    "sp.Matrix(np.dot(P,np.transpose(P)))"
   ]
  },
  {
   "cell_type": "code",
   "execution_count": 53,
   "id": "0582adf9",
   "metadata": {},
   "outputs": [
    {
     "data": {
      "text/plain": [
       "array([[1.64370883, 0.        ],\n",
       "       [0.        , 7.30056308]])"
      ]
     },
     "execution_count": 53,
     "metadata": {},
     "output_type": "execute_result"
    }
   ],
   "source": [
    "np.sqrt(Lambda)"
   ]
  },
  {
   "cell_type": "code",
   "execution_count": 59,
   "id": "06851e39",
   "metadata": {},
   "outputs": [
    {
     "data": {
      "text/plain": [
       "array([0.60838026, 0.13697574])"
      ]
     },
     "execution_count": 59,
     "metadata": {},
     "output_type": "execute_result"
    }
   ],
   "source": [
    "alpha = -0.5 \n",
    "a_eig**alpha"
   ]
  },
  {
   "cell_type": "code",
   "execution_count": 60,
   "id": "58c28dfe",
   "metadata": {},
   "outputs": [],
   "source": [
    "A_new_aplha=np.dot(np.dot(P,np.diag(a_eig**alpha)),np.transpose(P))"
   ]
  },
  {
   "cell_type": "code",
   "execution_count": 61,
   "id": "6a597120",
   "metadata": {},
   "outputs": [
    {
     "data": {
      "text/latex": [
       "$\\displaystyle \\left[\\begin{matrix}0.596284793999944 & -0.074535599249993\\\\-0.074535599249993 & 0.149071198499986\\end{matrix}\\right]$"
      ],
      "text/plain": [
       "Matrix([\n",
       "[ 0.596284793999944, -0.074535599249993],\n",
       "[-0.074535599249993,  0.149071198499986]])"
      ]
     },
     "execution_count": 61,
     "metadata": {},
     "output_type": "execute_result"
    }
   ],
   "source": [
    "sp.Matrix(A_new_aplha)"
   ]
  },
  {
   "cell_type": "code",
   "execution_count": null,
   "id": "ae433d27",
   "metadata": {},
   "outputs": [],
   "source": []
  }
 ],
 "metadata": {
  "kernelspec": {
   "display_name": "Python 3 (ipykernel)",
   "language": "python",
   "name": "python3"
  },
  "language_info": {
   "codemirror_mode": {
    "name": "ipython",
    "version": 3
   },
   "file_extension": ".py",
   "mimetype": "text/x-python",
   "name": "python",
   "nbconvert_exporter": "python",
   "pygments_lexer": "ipython3",
   "version": "3.9.12"
  }
 },
 "nbformat": 4,
 "nbformat_minor": 5
}
