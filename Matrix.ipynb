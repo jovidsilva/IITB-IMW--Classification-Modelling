{
 "cells": [
  {
   "cell_type": "markdown",
   "id": "95f9e32f",
   "metadata": {},
   "source": [
    "# Dr. Radhendushka Srivastava and Dr. Jovi D'Silva"
   ]
  },
  {
   "cell_type": "markdown",
   "id": "2ba2ce57",
   "metadata": {},
   "source": [
    "# Linear algebra"
   ]
  },
  {
   "cell_type": "code",
   "execution_count": 43,
   "id": "01ccc7b2",
   "metadata": {},
   "outputs": [],
   "source": [
    "import numpy as np\n",
    "import sympy as sp\n",
    "from sklearn.utils.extmath import randomized_svd"
   ]
  },
  {
   "cell_type": "markdown",
   "id": "9ce7e3f7",
   "metadata": {},
   "source": [
    "## Creating a matrix entry wise"
   ]
  },
  {
   "cell_type": "code",
   "execution_count": 2,
   "id": "91715751",
   "metadata": {},
   "outputs": [
    {
     "name": "stdout",
     "output_type": "stream",
     "text": [
      "[[1, 7, 9], [8, 6, 5], [2, 4, 3]]\n",
      "[[3, 8, 5], [7, 9, 4], [2, 1, 6]]\n"
     ]
    }
   ],
   "source": [
    "#List\n",
    "\n",
    "A = [[1,7,9],[8,6,5],[2,4,3]] \n",
    "B = [[3,8,5],[7,9,4],[2,1,6]]\n",
    "print(A)\n",
    "print(B)\n"
   ]
  },
  {
   "cell_type": "code",
   "execution_count": 3,
   "id": "cd33e05f",
   "metadata": {},
   "outputs": [
    {
     "name": "stdout",
     "output_type": "stream",
     "text": [
      "Matrix A1:\n",
      " [[1 7 9]\n",
      " [8 6 5]\n",
      " [2 4 3]]\n",
      "Matrix B1:\n",
      " [[3 8 5]\n",
      " [7 9 4]\n",
      " [2 1 6]]\n"
     ]
    }
   ],
   "source": [
    "A1 = np.array(A) #creating array using array func from numpy\n",
    "B1 = np.array(B)\n",
    "print('Matrix A1:'+'\\n', np.matrix(A1))\n",
    "print('Matrix B1:'+'\\n', np.matrix(B1))\n"
   ]
  },
  {
   "cell_type": "code",
   "execution_count": 4,
   "id": "0e507276",
   "metadata": {},
   "outputs": [
    {
     "name": "stdout",
     "output_type": "stream",
     "text": [
      "Matrix A1:\n"
     ]
    },
    {
     "data": {
      "text/latex": [
       "$\\displaystyle \\left[\\begin{matrix}1 & 7 & 9\\\\8 & 6 & 5\\\\2 & 4 & 3\\end{matrix}\\right]$"
      ],
      "text/plain": [
       "Matrix([\n",
       "[1, 7, 9],\n",
       "[8, 6, 5],\n",
       "[2, 4, 3]])"
      ]
     },
     "execution_count": 4,
     "metadata": {},
     "output_type": "execute_result"
    }
   ],
   "source": [
    "print('Matrix A1:')\n",
    "sp.Matrix(A1)\n"
   ]
  },
  {
   "cell_type": "code",
   "execution_count": 5,
   "id": "4827fdee",
   "metadata": {},
   "outputs": [
    {
     "name": "stdout",
     "output_type": "stream",
     "text": [
      "Matrix B1 :\n"
     ]
    },
    {
     "data": {
      "text/latex": [
       "$\\displaystyle \\left[\\begin{matrix}1 & 7 & 9\\\\8 & 6 & 5\\\\2 & 4 & 3\\end{matrix}\\right]$"
      ],
      "text/plain": [
       "Matrix([\n",
       "[1, 7, 9],\n",
       "[8, 6, 5],\n",
       "[2, 4, 3]])"
      ]
     },
     "execution_count": 5,
     "metadata": {},
     "output_type": "execute_result"
    }
   ],
   "source": [
    "print('Matrix B1 :')\n",
    "sp.Matrix(A1)"
   ]
  },
  {
   "cell_type": "code",
   "execution_count": 6,
   "id": "92005ab7",
   "metadata": {},
   "outputs": [
    {
     "name": "stdout",
     "output_type": "stream",
     "text": [
      "Array A:\n"
     ]
    },
    {
     "data": {
      "text/plain": [
       "array([[1, 7, 9],\n",
       "       [8, 6, 5],\n",
       "       [2, 4, 3]])"
      ]
     },
     "execution_count": 6,
     "metadata": {},
     "output_type": "execute_result"
    }
   ],
   "source": [
    "print('Array A:')\n",
    "np.array(A)"
   ]
  },
  {
   "cell_type": "code",
   "execution_count": 7,
   "id": "774c4137",
   "metadata": {},
   "outputs": [
    {
     "name": "stdout",
     "output_type": "stream",
     "text": [
      "Array B:\n"
     ]
    },
    {
     "data": {
      "text/plain": [
       "array([[3, 8, 5],\n",
       "       [7, 9, 4],\n",
       "       [2, 1, 6]])"
      ]
     },
     "execution_count": 7,
     "metadata": {},
     "output_type": "execute_result"
    }
   ],
   "source": [
    "print('Array B:')\n",
    "np.array(B)"
   ]
  },
  {
   "cell_type": "code",
   "execution_count": 8,
   "id": "8a436621",
   "metadata": {},
   "outputs": [
    {
     "name": "stdout",
     "output_type": "stream",
     "text": [
      "3\n"
     ]
    }
   ],
   "source": [
    "print(A1[2,2]) #print first row and first column of matrix (index row range 0 to number of row-1, index col range 0 to number of col-1)"
   ]
  },
  {
   "cell_type": "markdown",
   "id": "5c16ae26",
   "metadata": {},
   "source": [
    "## Creating a column vector"
   ]
  },
  {
   "cell_type": "markdown",
   "id": "eb612357",
   "metadata": {},
   "source": [
    "## Inputing matrics of given dimension (rows and columns)"
   ]
  },
  {
   "cell_type": "code",
   "execution_count": 9,
   "id": "bfe24294",
   "metadata": {},
   "outputs": [
    {
     "name": "stdout",
     "output_type": "stream",
     "text": [
      "Matrix with column wise creation \n",
      " [[10  1  2]\n",
      " [ 1  6  6]\n",
      " [ 2  2  7]]\n"
     ]
    }
   ],
   "source": [
    "my_array = [[10,1,2],[1,6,2],[2,6,7]]\n",
    "M = np.transpose(my_array) #to create a columnwise array we use transpose func from numpy library\n",
    "print(\"Matrix with column wise creation \\n\",M)"
   ]
  },
  {
   "cell_type": "markdown",
   "id": "527ea96c",
   "metadata": {},
   "source": [
    "## Extracting certain row(s) or column(s) of a matrix"
   ]
  },
  {
   "cell_type": "code",
   "execution_count": 10,
   "id": "2f431eb7",
   "metadata": {},
   "outputs": [
    {
     "name": "stdout",
     "output_type": "stream",
     "text": [
      "First Row of array: [10  1  2]\n",
      "First Column of array: [10  1  2]\n"
     ]
    }
   ],
   "source": [
    "print('First Row of array:', M[0,:]) \n",
    "print('First Column of array:',M[:,0])"
   ]
  },
  {
   "cell_type": "markdown",
   "id": "d87342ed",
   "metadata": {},
   "source": [
    "## Deleting a specific row(s) or column(s) of a matrix"
   ]
  },
  {
   "cell_type": "code",
   "execution_count": 11,
   "id": "d65cb44d",
   "metadata": {},
   "outputs": [
    {
     "name": "stdout",
     "output_type": "stream",
     "text": [
      "Original:\n",
      " [[10  1  2]\n",
      " [ 1  6  6]\n",
      " [ 2  2  7]]\n",
      "\n",
      "2nd row Deleted:\n",
      " [[10  1  2]\n",
      " [ 2  2  7]]\n"
     ]
    }
   ],
   "source": [
    "#delete 2nd row\n",
    "R_del = np.delete(M,1,axis=0) #axis=0 means rowwise\n",
    "print(\"Original:\\n\",M)\n",
    "print(\"\\n2nd row Deleted:\\n\",R_del)"
   ]
  },
  {
   "cell_type": "code",
   "execution_count": 12,
   "id": "a77ac6a0",
   "metadata": {},
   "outputs": [
    {
     "name": "stdout",
     "output_type": "stream",
     "text": [
      "Original:\n",
      " [[10  1  2]\n",
      " [ 1  6  6]\n",
      " [ 2  2  7]]\n",
      "\n",
      "2nd column Deleted:\n",
      " [[10  2]\n",
      " [ 1  6]\n",
      " [ 2  7]]\n"
     ]
    }
   ],
   "source": [
    "#delete 2nd column\n",
    "C_del = np.delete(M,1,axis=1) #axi=1 means col wise\n",
    "print(\"Original:\\n\",M)\n",
    "print(\"\\n2nd column Deleted:\\n\",C_del)"
   ]
  },
  {
   "cell_type": "markdown",
   "id": "159325a2",
   "metadata": {},
   "source": [
    "## Transpose and rank of the matrix"
   ]
  },
  {
   "cell_type": "code",
   "execution_count": 13,
   "id": "2656dc7a",
   "metadata": {},
   "outputs": [
    {
     "name": "stdout",
     "output_type": "stream",
     "text": [
      "[[10  1  2]\n",
      " [ 1  6  2]\n",
      " [ 2  6  7]]\n"
     ]
    }
   ],
   "source": [
    "MT = M.T #calculating transpose of matrix M\n",
    "print(MT)"
   ]
  },
  {
   "cell_type": "code",
   "execution_count": 14,
   "id": "c3671412",
   "metadata": {},
   "outputs": [
    {
     "name": "stdout",
     "output_type": "stream",
     "text": [
      "3\n"
     ]
    }
   ],
   "source": [
    "MR = np.linalg.matrix_rank(M) #calculating rank of matrix M using matrix_rank from linear algebra library in numpy package\n",
    "print(MR)"
   ]
  },
  {
   "cell_type": "markdown",
   "id": "9107c142",
   "metadata": {},
   "source": [
    "## Determinant of a square matrix"
   ]
  },
  {
   "cell_type": "code",
   "execution_count": 15,
   "id": "6898062a",
   "metadata": {},
   "outputs": [
    {
     "name": "stdout",
     "output_type": "stream",
     "text": [
      "285.00000000000006\n"
     ]
    }
   ],
   "source": [
    "MD = np.linalg.det(M) #calculating determinant of matrix mat using det from linear algebra library in numpy package\n",
    "print(MD)"
   ]
  },
  {
   "cell_type": "code",
   "execution_count": 16,
   "id": "1d00273d",
   "metadata": {},
   "outputs": [
    {
     "data": {
      "text/latex": [
       "$\\displaystyle 285$"
      ],
      "text/plain": [
       "285"
      ]
     },
     "execution_count": 16,
     "metadata": {},
     "output_type": "execute_result"
    }
   ],
   "source": [
    "sp.Matrix(M).det() #calculating determinant of matrix mat using sumpy package"
   ]
  },
  {
   "cell_type": "markdown",
   "id": "02d7ca2c",
   "metadata": {},
   "source": [
    "## Inverse of a square matrix"
   ]
  },
  {
   "cell_type": "code",
   "execution_count": 17,
   "id": "0def29dd",
   "metadata": {},
   "outputs": [
    {
     "name": "stdout",
     "output_type": "stream",
     "text": [
      "Inverse of Matrix: \n",
      " [[ 0.10526316 -0.01052632 -0.02105263]\n",
      " [ 0.01754386  0.23157895 -0.20350877]\n",
      " [-0.03508772 -0.06315789  0.20701754]]\n"
     ]
    }
   ],
   "source": [
    "MI = np.linalg.inv(M) #calculating inverse of matrix M using inv from linear algebra library in numpy package\n",
    "print(\"Inverse of Matrix: \\n\",MI)\n",
    "#Print nicely like the inverse of the matrix M is = with proper allignment "
   ]
  },
  {
   "cell_type": "markdown",
   "id": "cc7b8274",
   "metadata": {},
   "source": [
    "\n",
    "## Addition and substraction of two matrices"
   ]
  },
  {
   "cell_type": "code",
   "execution_count": 18,
   "id": "2e3a19ab",
   "metadata": {},
   "outputs": [
    {
     "name": "stdout",
     "output_type": "stream",
     "text": [
      "Matrix M:\n",
      " [[10  1  2]\n",
      " [ 1  6  6]\n",
      " [ 2  2  7]]\n"
     ]
    }
   ],
   "source": [
    "print('Matrix M:'+'\\n', M)"
   ]
  },
  {
   "cell_type": "code",
   "execution_count": 19,
   "id": "93e09203",
   "metadata": {},
   "outputs": [
    {
     "name": "stdout",
     "output_type": "stream",
     "text": [
      "Matrix M :\n"
     ]
    },
    {
     "data": {
      "text/latex": [
       "$\\displaystyle \\left[\\begin{matrix}10 & 1 & 2\\\\1 & 6 & 6\\\\2 & 2 & 7\\end{matrix}\\right]$"
      ],
      "text/plain": [
       "Matrix([\n",
       "[10, 1, 2],\n",
       "[ 1, 6, 6],\n",
       "[ 2, 2, 7]])"
      ]
     },
     "execution_count": 19,
     "metadata": {},
     "output_type": "execute_result"
    }
   ],
   "source": [
    "print('Matrix M :')\n",
    "sp.Matrix(M)"
   ]
  },
  {
   "cell_type": "code",
   "execution_count": 20,
   "id": "1acc54e8",
   "metadata": {},
   "outputs": [],
   "source": [
    "# create a second integer matrix N (3x3) of all ones using numpy\n",
    "N = np.ones((3, 3),dtype=np.int8)"
   ]
  },
  {
   "cell_type": "code",
   "execution_count": 21,
   "id": "5a183ce4",
   "metadata": {},
   "outputs": [
    {
     "name": "stdout",
     "output_type": "stream",
     "text": [
      "Matrix N:\n",
      " [[1 1 1]\n",
      " [1 1 1]\n",
      " [1 1 1]]\n"
     ]
    }
   ],
   "source": [
    "print('Matrix N:'+'\\n', N)"
   ]
  },
  {
   "cell_type": "code",
   "execution_count": 22,
   "id": "7e01b2b7",
   "metadata": {},
   "outputs": [
    {
     "name": "stdout",
     "output_type": "stream",
     "text": [
      "Matrix N :\n"
     ]
    },
    {
     "data": {
      "text/latex": [
       "$\\displaystyle \\left[\\begin{matrix}1 & 1 & 1\\\\1 & 1 & 1\\\\1 & 1 & 1\\end{matrix}\\right]$"
      ],
      "text/plain": [
       "Matrix([\n",
       "[1, 1, 1],\n",
       "[1, 1, 1],\n",
       "[1, 1, 1]])"
      ]
     },
     "execution_count": 22,
     "metadata": {},
     "output_type": "execute_result"
    }
   ],
   "source": [
    "print('Matrix N :')\n",
    "sp.Matrix(N)"
   ]
  },
  {
   "cell_type": "code",
   "execution_count": 23,
   "id": "e1a7b307",
   "metadata": {},
   "outputs": [
    {
     "name": "stdout",
     "output_type": "stream",
     "text": [
      "Addition of Matrices: \n",
      " [[11  2  3]\n",
      " [ 2  7  7]\n",
      " [ 3  3  8]]\n",
      "Substraction of Matrices: \n",
      " [[9 0 1]\n",
      " [0 5 5]\n",
      " [1 1 6]]\n"
     ]
    }
   ],
   "source": [
    "MA = M + N #addition of matrices\n",
    "MS = M - N #substraction of matrices\n",
    "print(\"Addition of Matrices: \\n\",MA)\n",
    "print(\"Substraction of Matrices: \\n\",MS)"
   ]
  },
  {
   "cell_type": "code",
   "execution_count": 24,
   "id": "9eaa6c76",
   "metadata": {},
   "outputs": [
    {
     "data": {
      "text/latex": [
       "$\\displaystyle \\left[\\begin{matrix}11 & 2 & 3\\\\2 & 7 & 7\\\\3 & 3 & 8\\end{matrix}\\right]$"
      ],
      "text/plain": [
       "Matrix([\n",
       "[11, 2, 3],\n",
       "[ 2, 7, 7],\n",
       "[ 3, 3, 8]])"
      ]
     },
     "execution_count": 24,
     "metadata": {},
     "output_type": "execute_result"
    }
   ],
   "source": [
    "sp.Matrix(M)+sp.Matrix(N)"
   ]
  },
  {
   "cell_type": "code",
   "execution_count": 25,
   "id": "591b64f1",
   "metadata": {},
   "outputs": [
    {
     "data": {
      "text/latex": [
       "$\\displaystyle \\left[\\begin{matrix}9 & 0 & 1\\\\0 & 5 & 5\\\\1 & 1 & 6\\end{matrix}\\right]$"
      ],
      "text/plain": [
       "Matrix([\n",
       "[9, 0, 1],\n",
       "[0, 5, 5],\n",
       "[1, 1, 6]])"
      ]
     },
     "execution_count": 25,
     "metadata": {},
     "output_type": "execute_result"
    }
   ],
   "source": [
    "sp.Matrix(M)-sp.Matrix(N)"
   ]
  },
  {
   "cell_type": "markdown",
   "id": "55eb44e2",
   "metadata": {},
   "source": [
    "## Element wise product of two matricies"
   ]
  },
  {
   "cell_type": "code",
   "execution_count": 26,
   "id": "0c5e3a15",
   "metadata": {},
   "outputs": [
    {
     "name": "stdout",
     "output_type": "stream",
     "text": [
      "Element Wise product\n",
      " [[10  1  2]\n",
      " [ 1  6  6]\n",
      " [ 2  2  7]]\n"
     ]
    }
   ],
   "source": [
    "MEle = np.multiply(M,N) #calculating element wise product using multiply from numpy\n",
    "print('Element Wise product'+'\\n',MEle)"
   ]
  },
  {
   "cell_type": "code",
   "execution_count": 27,
   "id": "0acafd62",
   "metadata": {},
   "outputs": [
    {
     "data": {
      "text/latex": [
       "$\\displaystyle \\left[\\begin{matrix}10 & 1 & 2\\\\1 & 6 & 6\\\\2 & 2 & 7\\end{matrix}\\right]$"
      ],
      "text/plain": [
       "Matrix([\n",
       "[10, 1, 2],\n",
       "[ 1, 6, 6],\n",
       "[ 2, 2, 7]])"
      ]
     },
     "execution_count": 27,
     "metadata": {},
     "output_type": "execute_result"
    }
   ],
   "source": [
    "from sympy import matrix_multiply_elementwise\n",
    "matrix_multiply_elementwise(sp.Matrix(M), sp.Matrix(N))"
   ]
  },
  {
   "cell_type": "markdown",
   "id": "6f107a4e",
   "metadata": {},
   "source": [
    "## Matrix multiplication"
   ]
  },
  {
   "cell_type": "code",
   "execution_count": 28,
   "id": "b61c95a2",
   "metadata": {},
   "outputs": [
    {
     "name": "stdout",
     "output_type": "stream",
     "text": [
      "Matrix Multiplication\n",
      " [[13 13 13]\n",
      " [13 13 13]\n",
      " [11 11 11]]\n"
     ]
    }
   ],
   "source": [
    "MMul = np.dot(M,N) #calculating matrix product usig dot from numpy\n",
    "print('Matrix Multiplication'+'\\n',MMul)"
   ]
  },
  {
   "cell_type": "code",
   "execution_count": 29,
   "id": "2ce1f453",
   "metadata": {},
   "outputs": [
    {
     "data": {
      "text/latex": [
       "$\\displaystyle \\left[\\begin{matrix}13 & 13 & 13\\\\13 & 13 & 13\\\\11 & 11 & 11\\end{matrix}\\right]$"
      ],
      "text/plain": [
       "Matrix([\n",
       "[13, 13, 13],\n",
       "[13, 13, 13],\n",
       "[11, 11, 11]])"
      ]
     },
     "execution_count": 29,
     "metadata": {},
     "output_type": "execute_result"
    }
   ],
   "source": [
    "sp.Matrix(M)*sp.Matrix(N)"
   ]
  },
  {
   "cell_type": "markdown",
   "id": "8dc7c815",
   "metadata": {},
   "source": [
    "## Eigen values and eigen vectors of a square matrix"
   ]
  },
  {
   "cell_type": "code",
   "execution_count": 47,
   "id": "04da814a",
   "metadata": {},
   "outputs": [
    {
     "name": "stdout",
     "output_type": "stream",
     "text": [
      "[[10  1  2]\n",
      " [ 1  6  6]\n",
      " [ 2  2  7]]\n",
      "Eigen values\n",
      " [12.23606798  7.76393202  3.        ]\n",
      "Eigen Vectors\n",
      " [[ 6.76113763e-01  6.08017945e-01  2.36746848e-16]\n",
      " [ 5.64268559e-01 -7.28534834e-01 -8.94427191e-01]\n",
      " [ 4.73783888e-01 -3.15517311e-01  4.47213595e-01]]\n",
      "[[ 6.76113763e-01  6.08017945e-01  2.36746848e-16]\n",
      " [ 5.64268559e-01 -7.28534834e-01 -8.94427191e-01]\n",
      " [ 4.73783888e-01 -3.15517311e-01  4.47213595e-01]]\n",
      "[[ 6.76113763e-01  5.64268559e-01  4.73783888e-01]\n",
      " [ 6.08017945e-01 -7.28534834e-01 -3.15517311e-01]\n",
      " [ 2.36746848e-16 -8.94427191e-01  4.47213595e-01]]\n",
      "[[ 0.82681564 -0.06145251  0.12849162]\n",
      " [-0.06145251  1.64916201  0.0972067 ]\n",
      " [ 0.12849162  0.0972067   0.52402235]]\n"
     ]
    }
   ],
   "source": [
    "print(M)\n",
    "MEig , MEigV = np.linalg.eig(M) #calculating eigen values and eigen vectors\n",
    "print('Eigen values'+'\\n',MEig)\n",
    "print('Eigen Vectors'+'\\n',MEigV)\n",
    "P=MEigV\n",
    "print(P)\n",
    "print(P.T)\n",
    "A=np.dot(P,P.T)\n",
    "print(A)\n",
    "#Print nicely, so that one could see what are eigen value vector and eigen vector matrix.\n",
    "#Rows of eigen vector matrix corresponds to eigen values of the matrix."
   ]
  },
  {
   "cell_type": "code",
   "execution_count": 31,
   "id": "3cc31bfb",
   "metadata": {},
   "outputs": [
    {
     "data": {
      "text/latex": [
       "$\\displaystyle \\left[\\begin{matrix}12.2360679774998\\\\7.76393202250021\\\\3.0\\end{matrix}\\right]$"
      ],
      "text/plain": [
       "Matrix([\n",
       "[12.2360679774998],\n",
       "[7.76393202250021],\n",
       "[             3.0]])"
      ]
     },
     "execution_count": 31,
     "metadata": {},
     "output_type": "execute_result"
    }
   ],
   "source": [
    "sp.Matrix(MEig)"
   ]
  },
  {
   "cell_type": "code",
   "execution_count": 32,
   "id": "2aa07fa8",
   "metadata": {},
   "outputs": [
    {
     "data": {
      "text/latex": [
       "$\\displaystyle \\left[\\begin{matrix}0.67611376320047 & 0.608017945186653 & 2.36746848099096 \\cdot 10^{-16}\\\\0.564268558981482 & -0.728534834114434 & -0.894427190999916\\\\0.473783888028984 & -0.31551731143133 & 0.447213595499958\\end{matrix}\\right]$"
      ],
      "text/plain": [
       "Matrix([\n",
       "[ 0.67611376320047,  0.608017945186653, 2.36746848099096e-16],\n",
       "[0.564268558981482, -0.728534834114434,   -0.894427190999916],\n",
       "[0.473783888028984,  -0.31551731143133,    0.447213595499958]])"
      ]
     },
     "execution_count": 32,
     "metadata": {},
     "output_type": "execute_result"
    }
   ],
   "source": [
    "sp.Matrix(MEigV)"
   ]
  },
  {
   "cell_type": "markdown",
   "id": "7eb0480d",
   "metadata": {},
   "source": [
    "## Spectral value decomposition of a square symmetric matrix"
   ]
  },
  {
   "cell_type": "code",
   "execution_count": 46,
   "id": "cf92c318",
   "metadata": {},
   "outputs": [
    {
     "name": "stdout",
     "output_type": "stream",
     "text": [
      "Left Singular Vectors: \n",
      " [[ 0.64120837  0.75946333 -0.10985116]\n",
      " [ 0.5543148  -0.55740558 -0.61808908]\n",
      " [ 0.53064764 -0.33543177  0.77839489]]\n",
      "Singular Values: \n",
      " [12.60945079  8.27945601  2.72990093]\n",
      "Right Singular Vectors: \n",
      " [[ 0.63664104  0.39877966  0.66004771]\n",
      " [ 0.76893507 -0.39324247 -0.50408254]\n",
      " [-0.05854092 -0.82845347  0.55698996]]\n"
     ]
    },
    {
     "name": "stderr",
     "output_type": "stream",
     "text": [
      "C:\\Users\\rsriv\\anaconda3\\lib\\site-packages\\sklearn\\utils\\extmath.py:368: FutureWarning: If 'random_state' is not supplied, the current default is to use 0 as a fixed seed. This will change to  None in version 1.2 leading to non-deterministic results that better reflect nature of the randomized_svd solver. If you want to silence this warning, set 'random_state' to an integer seed or to None explicitly depending if you want your code to be deterministic or not.\n",
      "  warnings.warn(\n"
     ]
    }
   ],
   "source": [
    "#use singular value decomposition \n",
    "#from scipy.linalg import svd\n",
    "U , Si, V_T = randomized_svd(M,n_components=3)\n",
    "#left singular vectors\n",
    "print(\"Left Singular Vectors: \\n\", U)\n",
    "#Singular Values\n",
    "print(\"Singular Values: \\n\",Si)\n",
    "#Right Singular Vectors\n",
    "print(\"Right Singular Vectors: \\n\", V_T)\n",
    "\n",
    "\n",
    "#Then spectral value decomposition \n",
    "#connect it with eigen value and eigen vector\n",
    "#https://www.section.io/engineering-education/singular-value-decomposition-in-python/\n",
    "#above link may be useful"
   ]
  },
  {
   "cell_type": "code",
   "execution_count": 34,
   "id": "351c7942",
   "metadata": {},
   "outputs": [
    {
     "data": {
      "text/latex": [
       "$\\displaystyle \\left[\\begin{matrix}-0.641208374854325 & 0.759463325122299 & -0.109851162082416\\\\-0.554314802135541 & -0.55740558313133 & -0.618089084216391\\\\-0.530647642178981 & -0.335431772031516 & 0.778394890888735\\end{matrix}\\right]$"
      ],
      "text/plain": [
       "Matrix([\n",
       "[-0.641208374854325,  0.759463325122299, -0.109851162082416],\n",
       "[-0.554314802135541,  -0.55740558313133, -0.618089084216391],\n",
       "[-0.530647642178981, -0.335431772031516,  0.778394890888735]])"
      ]
     },
     "execution_count": 34,
     "metadata": {},
     "output_type": "execute_result"
    }
   ],
   "source": [
    "sp.Matrix(U)"
   ]
  },
  {
   "cell_type": "code",
   "execution_count": 35,
   "id": "afd58681",
   "metadata": {},
   "outputs": [
    {
     "data": {
      "text/latex": [
       "$\\displaystyle \\left[\\begin{matrix}12.6094507867485\\\\8.27945600754632\\\\2.72990092781296\\end{matrix}\\right]$"
      ],
      "text/plain": [
       "Matrix([\n",
       "[12.6094507867485],\n",
       "[8.27945600754632],\n",
       "[2.72990092781296]])"
      ]
     },
     "execution_count": 35,
     "metadata": {},
     "output_type": "execute_result"
    }
   ],
   "source": [
    "sp.Matrix(Si)"
   ]
  },
  {
   "cell_type": "code",
   "execution_count": 36,
   "id": "f1ef8aca",
   "metadata": {},
   "outputs": [
    {
     "data": {
      "text/latex": [
       "$\\displaystyle \\left[\\begin{matrix}-0.636641037805804 & -0.398779657977648 & -0.660047705370436\\\\0.768935074747181 & -0.393242468437682 & -0.504082544669606\\\\-0.0585409241906504 & -0.828453466043971 & 0.55698995933018\\end{matrix}\\right]$"
      ],
      "text/plain": [
       "Matrix([\n",
       "[ -0.636641037805804, -0.398779657977648, -0.660047705370436],\n",
       "[  0.768935074747181, -0.393242468437682, -0.504082544669606],\n",
       "[-0.0585409241906504, -0.828453466043971,   0.55698995933018]])"
      ]
     },
     "execution_count": 36,
     "metadata": {},
     "output_type": "execute_result"
    }
   ],
   "source": [
    "sp.Matrix(V_T)"
   ]
  },
  {
   "cell_type": "markdown",
   "id": "b8f897fb",
   "metadata": {},
   "source": [
    "# Some special matrices "
   ]
  },
  {
   "cell_type": "markdown",
   "id": "47ddd89f",
   "metadata": {},
   "source": [
    "## Matrix of dimension 3 by 3 with each element as 1"
   ]
  },
  {
   "cell_type": "code",
   "execution_count": 37,
   "id": "921bc13d",
   "metadata": {},
   "outputs": [
    {
     "name": "stdout",
     "output_type": "stream",
     "text": [
      "Special Ones Matrix: \n",
      " [[1. 1. 1.]\n",
      " [1. 1. 1.]\n",
      " [1. 1. 1.]]\n"
     ]
    }
   ],
   "source": [
    "S = np.ones((3,3))\n",
    "print(\"Special Ones Matrix: \\n\",S)"
   ]
  },
  {
   "cell_type": "code",
   "execution_count": 38,
   "id": "17ae188b",
   "metadata": {},
   "outputs": [
    {
     "data": {
      "text/latex": [
       "$\\displaystyle \\left[\\begin{matrix}1.0 & 1.0 & 1.0\\\\1.0 & 1.0 & 1.0\\\\1.0 & 1.0 & 1.0\\end{matrix}\\right]$"
      ],
      "text/plain": [
       "Matrix([\n",
       "[1.0, 1.0, 1.0],\n",
       "[1.0, 1.0, 1.0],\n",
       "[1.0, 1.0, 1.0]])"
      ]
     },
     "execution_count": 38,
     "metadata": {},
     "output_type": "execute_result"
    }
   ],
   "source": [
    "sp.Matrix(S)"
   ]
  },
  {
   "cell_type": "markdown",
   "id": "968f6fc4",
   "metadata": {},
   "source": [
    "## Creating a diagonal matrix from a given vector of dimension 5"
   ]
  },
  {
   "cell_type": "code",
   "execution_count": 39,
   "id": "1ea54896",
   "metadata": {},
   "outputs": [
    {
     "name": "stdout",
     "output_type": "stream",
     "text": [
      "Diagonal Matrix \n",
      " [[7 0 0 0 0]\n",
      " [0 9 0 0 0]\n",
      " [0 0 5 0 0]\n",
      " [0 0 0 4 0]\n",
      " [0 0 0 0 3]]\n"
     ]
    }
   ],
   "source": [
    "v = [7,9,5,4,3]\n",
    "vm = np.diag(v)\n",
    "print(\"Diagonal Matrix \\n\",vm)"
   ]
  },
  {
   "cell_type": "code",
   "execution_count": 40,
   "id": "c2070203",
   "metadata": {},
   "outputs": [
    {
     "data": {
      "text/latex": [
       "$\\displaystyle \\left[\\begin{matrix}7 & 0 & 0 & 0 & 0\\\\0 & 9 & 0 & 0 & 0\\\\0 & 0 & 5 & 0 & 0\\\\0 & 0 & 0 & 4 & 0\\\\0 & 0 & 0 & 0 & 3\\end{matrix}\\right]$"
      ],
      "text/plain": [
       "Matrix([\n",
       "[7, 0, 0, 0, 0],\n",
       "[0, 9, 0, 0, 0],\n",
       "[0, 0, 5, 0, 0],\n",
       "[0, 0, 0, 4, 0],\n",
       "[0, 0, 0, 0, 3]])"
      ]
     },
     "execution_count": 40,
     "metadata": {},
     "output_type": "execute_result"
    }
   ],
   "source": [
    "sp.Matrix(vm)"
   ]
  },
  {
   "cell_type": "markdown",
   "id": "23679cf3",
   "metadata": {},
   "source": [
    "## Given 3 vectors of dimension 5, combine them into a matrix of dimension 3 by 5"
   ]
  },
  {
   "cell_type": "code",
   "execution_count": 41,
   "id": "92f04176",
   "metadata": {},
   "outputs": [
    {
     "name": "stdout",
     "output_type": "stream",
     "text": [
      "Matrix after vectors joined: \n",
      " [[ 7  9  5  4  3]\n",
      " [ 8  4  2  6  1]\n",
      " [15 18 20 25 11]]\n"
     ]
    }
   ],
   "source": [
    "v = [7,9,5,4,3]\n",
    "v1 = [8,4,2,6,1]\n",
    "v2 = [15,18,20,25,11]\n",
    "vmat = np.array([v,v1,v2])\n",
    "print(\"Matrix after vectors joined: \\n\",vmat)"
   ]
  },
  {
   "cell_type": "code",
   "execution_count": 42,
   "id": "d155dbfb",
   "metadata": {},
   "outputs": [
    {
     "data": {
      "text/latex": [
       "$\\displaystyle \\left[\\begin{matrix}7 & 9 & 5 & 4 & 3\\\\8 & 4 & 2 & 6 & 1\\\\15 & 18 & 20 & 25 & 11\\end{matrix}\\right]$"
      ],
      "text/plain": [
       "Matrix([\n",
       "[ 7,  9,  5,  4,  3],\n",
       "[ 8,  4,  2,  6,  1],\n",
       "[15, 18, 20, 25, 11]])"
      ]
     },
     "execution_count": 42,
     "metadata": {},
     "output_type": "execute_result"
    }
   ],
   "source": [
    "sp.Matrix(vmat)"
   ]
  }
 ],
 "metadata": {
  "kernelspec": {
   "display_name": "Python 3 (ipykernel)",
   "language": "python",
   "name": "python3"
  },
  "language_info": {
   "codemirror_mode": {
    "name": "ipython",
    "version": 3
   },
   "file_extension": ".py",
   "mimetype": "text/x-python",
   "name": "python",
   "nbconvert_exporter": "python",
   "pygments_lexer": "ipython3",
   "version": "3.9.12"
  },
  "vscode": {
   "interpreter": {
    "hash": "cb5de215c21bb83e8c019c840748d1d1da03fc30745495e08df3d3a84dd8905e"
   }
  }
 },
 "nbformat": 4,
 "nbformat_minor": 5
}
