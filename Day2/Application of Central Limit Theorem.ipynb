{
 "cells": [
  {
   "cell_type": "code",
   "execution_count": 1,
   "id": "d77d4e5d",
   "metadata": {},
   "outputs": [],
   "source": [
    "import numpy as np\n",
    "import math\n",
    "import matplotlib.pyplot as plt"
   ]
  },
  {
   "cell_type": "code",
   "execution_count": 11,
   "id": "1ad58770",
   "metadata": {},
   "outputs": [],
   "source": [
    "#using poisson Distribution\n",
    "#lamda\n",
    "lam_val = 3\n",
    "# sample size\n",
    "N = 100\n",
    "X = np.random.poisson(lam=lam_val,size=(N,1))"
   ]
  },
  {
   "cell_type": "code",
   "execution_count": 12,
   "id": "b5740680",
   "metadata": {},
   "outputs": [
    {
     "data": {
      "text/plain": [
       "3.13"
      ]
     },
     "execution_count": 12,
     "metadata": {},
     "output_type": "execute_result"
    }
   ],
   "source": [
    "np.mean(X)"
   ]
  },
  {
   "cell_type": "code",
   "execution_count": 13,
   "id": "323530ed",
   "metadata": {},
   "outputs": [
    {
     "data": {
      "text/plain": [
       "3.273100000000001"
      ]
     },
     "execution_count": 13,
     "metadata": {},
     "output_type": "execute_result"
    }
   ],
   "source": [
    "np.var(X)"
   ]
  },
  {
   "cell_type": "code",
   "execution_count": 14,
   "id": "5ef9838f",
   "metadata": {},
   "outputs": [
    {
     "data": {
      "text/plain": [
       "0.750555349946513"
      ]
     },
     "execution_count": 14,
     "metadata": {},
     "output_type": "execute_result"
    }
   ],
   "source": [
    "Tn = np.sqrt(N)*(np.mean(X)-lam_val)/np.sqrt(lam_val)\n",
    "Tn"
   ]
  },
  {
   "cell_type": "code",
   "execution_count": 32,
   "id": "2a4fd435",
   "metadata": {},
   "outputs": [],
   "source": [
    "gen_list = []\n",
    "lam_val = 3\n",
    "N = 10000\n",
    "run = 1000\n",
    "for i in range(1,run+1):\n",
    "    X = np.random.poisson(lam=lam_val,size=(N,1))\n",
    "    Tn = np.sqrt(N)*(np.mean(X)-lam_val)/np.sqrt(lam_val)\n",
    "    gen_list.append(Tn)\n",
    "    "
   ]
  },
  {
   "cell_type": "code",
   "execution_count": 33,
   "id": "ec928e56",
   "metadata": {},
   "outputs": [
    {
     "data": {
      "image/png": "[encoded data removed]",
      "text/plain": [
       "<Figure size 432x288 with 1 Axes>"
      ]
     },
     "metadata": {
      "needs_background": "light"
     },
     "output_type": "display_data"
    }
   ],
   "source": [
    "plt.hist(gen_list,edgecolor='black',color='orange',bins=15,density=True)\n",
    "u=np.linspace(-3,3,num=100)\n",
    "f=(1/np.sqrt(2*math.pi))*np.exp(-0.5*u**2)\n",
    "plt.plot(u,f,color='darkblue')\n",
    "plt.show()\n"
   ]
  },
  {
   "cell_type": "code",
   "execution_count": null,
   "id": "2c1c8831",
   "metadata": {},
   "outputs": [],
   "source": []
  }
 ],
 "metadata": {
  "kernelspec": {
   "display_name": "Python 3 (ipykernel)",
   "language": "python",
   "name": "python3"
  },
  "language_info": {
   "codemirror_mode": {
    "name": "ipython",
    "version": 3
   },
   "file_extension": ".py",
   "mimetype": "text/x-python",
   "name": "python",
   "nbconvert_exporter": "python",
   "pygments_lexer": "ipython3",
   "version": "3.9.12"
  }
 },
 "nbformat": 4,
 "nbformat_minor": 5
}
