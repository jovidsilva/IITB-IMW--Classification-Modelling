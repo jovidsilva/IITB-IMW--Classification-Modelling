{
 "cells": [
  {
   "cell_type": "code",
   "execution_count": 1,
   "id": "b9676a47",
   "metadata": {},
   "outputs": [],
   "source": [
    "import numpy as np\n",
    "import matplotlib.pyplot as plt"
   ]
  },
  {
   "cell_type": "code",
   "execution_count": 2,
   "id": "c2a1e65f",
   "metadata": {},
   "outputs": [],
   "source": [
    "mu = 2\n",
    "sig = np.sqrt(5)\n",
    "N = 57\n",
    "X = np.random.normal(mu,sig,size=(N))"
   ]
  },
  {
   "cell_type": "code",
   "execution_count": 3,
   "id": "bc274886",
   "metadata": {},
   "outputs": [
    {
     "data": {
      "text/plain": [
       "2.044270320304955"
      ]
     },
     "execution_count": 3,
     "metadata": {},
     "output_type": "execute_result"
    }
   ],
   "source": [
    "np.mean(X)"
   ]
  },
  {
   "cell_type": "code",
   "execution_count": 4,
   "id": "c83e90b2",
   "metadata": {},
   "outputs": [
    {
     "data": {
      "text/plain": [
       "5.772838068078692"
      ]
     },
     "execution_count": 4,
     "metadata": {},
     "output_type": "execute_result"
    }
   ],
   "source": [
    "np.var(X)"
   ]
  },
  {
   "cell_type": "code",
   "execution_count": 5,
   "id": "881135c7",
   "metadata": {},
   "outputs": [],
   "source": [
    "mu_0 = 4\n",
    "abs_z = np.abs((np.mean(X)-mu_0)/sig)"
   ]
  },
  {
   "cell_type": "code",
   "execution_count": null,
   "id": "fbdf5144",
   "metadata": {},
   "outputs": [],
   "source": []
  }
 ],
 "metadata": {
  "kernelspec": {
   "display_name": "Python 3 (ipykernel)",
   "language": "python",
   "name": "python3"
  },
  "language_info": {
   "codemirror_mode": {
    "name": "ipython",
    "version": 3
   },
   "file_extension": ".py",
   "mimetype": "text/x-python",
   "name": "python",
   "nbconvert_exporter": "python",
   "pygments_lexer": "ipython3",
   "version": "3.9.12"
  }
 },
 "nbformat": 4,
 "nbformat_minor": 5
}
