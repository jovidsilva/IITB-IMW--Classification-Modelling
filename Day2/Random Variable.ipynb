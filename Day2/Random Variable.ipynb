{
 "cells": [
  {
   "cell_type": "code",
   "execution_count": 7,
   "id": "64a29ab8",
   "metadata": {},
   "outputs": [],
   "source": [
    "import numpy as np\n",
    "import math\n",
    "import matplotlib.pyplot as plt"
   ]
  },
  {
   "cell_type": "code",
   "execution_count": 15,
   "id": "eedd60ac",
   "metadata": {},
   "outputs": [],
   "source": [
    "lam_val = 1\n",
    "N = 1000\n",
    "X = np.random.exponential(scale=1/lam_val,size=(N,1))"
   ]
  },
  {
   "cell_type": "code",
   "execution_count": 16,
   "id": "0109b125",
   "metadata": {},
   "outputs": [
    {
     "data": {
      "text/plain": [
       "1.0"
      ]
     },
     "execution_count": 16,
     "metadata": {},
     "output_type": "execute_result"
    }
   ],
   "source": [
    "1/lam_val"
   ]
  },
  {
   "cell_type": "code",
   "execution_count": 17,
   "id": "73144472",
   "metadata": {},
   "outputs": [
    {
     "data": {
      "text/plain": [
       "1.0121263293999565"
      ]
     },
     "execution_count": 17,
     "metadata": {},
     "output_type": "execute_result"
    }
   ],
   "source": [
    "np.mean(X)"
   ]
  },
  {
   "cell_type": "code",
   "execution_count": 18,
   "id": "4298c52c",
   "metadata": {},
   "outputs": [
    {
     "data": {
      "text/plain": [
       "1.0"
      ]
     },
     "execution_count": 18,
     "metadata": {},
     "output_type": "execute_result"
    }
   ],
   "source": [
    "1/lam_val**2"
   ]
  },
  {
   "cell_type": "code",
   "execution_count": 19,
   "id": "d7dcf73a",
   "metadata": {},
   "outputs": [
    {
     "data": {
      "text/plain": [
       "1.1045028143476665"
      ]
     },
     "execution_count": 19,
     "metadata": {},
     "output_type": "execute_result"
    }
   ],
   "source": [
    "np.var(X)"
   ]
  },
  {
   "cell_type": "code",
   "execution_count": 22,
   "id": "87e3311b",
   "metadata": {},
   "outputs": [
    {
     "data": {
      "image/png": "[encoded data removed]",
      "text/plain": [
       "<Figure size 432x288 with 1 Axes>"
      ]
     },
     "metadata": {
      "needs_background": "light"
     },
     "output_type": "display_data"
    }
   ],
   "source": [
    "plt.hist(X,density=True,edgecolor='black',color='orange',bins=30)\n",
    "u = np.linspace(0,5,num=100)\n",
    "f=lam_val*np.exp(-lam_val*u)\n",
    "plt.plot(u,f,color='darkblue')\n",
    "plt.show()"
   ]
  },
  {
   "cell_type": "code",
   "execution_count": null,
   "id": "5777e900",
   "metadata": {},
   "outputs": [],
   "source": []
  }
 ],
 "metadata": {
  "kernelspec": {
   "display_name": "Python 3 (ipykernel)",
   "language": "python",
   "name": "python3"
  },
  "language_info": {
   "codemirror_mode": {
    "name": "ipython",
    "version": 3
   },
   "file_extension": ".py",
   "mimetype": "text/x-python",
   "name": "python",
   "nbconvert_exporter": "python",
   "pygments_lexer": "ipython3",
   "version": "3.9.12"
  }
 },
 "nbformat": 4,
 "nbformat_minor": 5
}
