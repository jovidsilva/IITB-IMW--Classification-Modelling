{
 "cells": [
  {
   "cell_type": "code",
   "execution_count": 1,
   "id": "6cbb6570",
   "metadata": {},
   "outputs": [],
   "source": [
    "import pandas as pd\n",
    "import matplotlib.pyplot as plt\n",
    "import seaborn as sb"
   ]
  },
  {
   "cell_type": "code",
   "execution_count": 2,
   "id": "8b332d60",
   "metadata": {},
   "outputs": [],
   "source": [
    "df = pd.read_excel('Raisin_Dataset _SVM.xlsx')"
   ]
  },
  {
   "cell_type": "code",
   "execution_count": 3,
   "id": "9a0b1f1c",
   "metadata": {},
   "outputs": [
    {
     "data": {
      "text/html": [
       "<div>\n",
       "<style scoped>\n",
       "    .dataframe tbody tr th:only-of-type {\n",
       "        vertical-align: middle;\n",
       "    }\n",
       "\n",
       "    .dataframe tbody tr th {\n",
       "        vertical-align: top;\n",
       "    }\n",
       "\n",
       "    .dataframe thead th {\n",
       "        text-align: right;\n",
       "    }\n",
       "</style>\n",
       "<table border=\"1\" class=\"dataframe\">\n",
       "  <thead>\n",
       "    <tr style=\"text-align: right;\">\n",
       "      <th></th>\n",
       "      <th>ar</th>\n",
       "      <th>majorAL</th>\n",
       "      <th>minorAL</th>\n",
       "      <th>ecc</th>\n",
       "      <th>conArea</th>\n",
       "      <th>extent</th>\n",
       "      <th>peri</th>\n",
       "      <th>class</th>\n",
       "    </tr>\n",
       "  </thead>\n",
       "  <tbody>\n",
       "    <tr>\n",
       "      <th>0</th>\n",
       "      <td>87524</td>\n",
       "      <td>442.246011</td>\n",
       "      <td>253.291155</td>\n",
       "      <td>0.819738</td>\n",
       "      <td>90546</td>\n",
       "      <td>0.758651</td>\n",
       "      <td>1184.040</td>\n",
       "      <td>0</td>\n",
       "    </tr>\n",
       "    <tr>\n",
       "      <th>1</th>\n",
       "      <td>75166</td>\n",
       "      <td>406.690687</td>\n",
       "      <td>243.032436</td>\n",
       "      <td>0.801805</td>\n",
       "      <td>78789</td>\n",
       "      <td>0.684130</td>\n",
       "      <td>1121.786</td>\n",
       "      <td>0</td>\n",
       "    </tr>\n",
       "    <tr>\n",
       "      <th>2</th>\n",
       "      <td>90856</td>\n",
       "      <td>442.267048</td>\n",
       "      <td>266.328318</td>\n",
       "      <td>0.798354</td>\n",
       "      <td>93717</td>\n",
       "      <td>0.637613</td>\n",
       "      <td>1208.575</td>\n",
       "      <td>0</td>\n",
       "    </tr>\n",
       "    <tr>\n",
       "      <th>3</th>\n",
       "      <td>45928</td>\n",
       "      <td>286.540559</td>\n",
       "      <td>208.760042</td>\n",
       "      <td>0.684989</td>\n",
       "      <td>47336</td>\n",
       "      <td>0.699599</td>\n",
       "      <td>844.162</td>\n",
       "      <td>0</td>\n",
       "    </tr>\n",
       "    <tr>\n",
       "      <th>4</th>\n",
       "      <td>79408</td>\n",
       "      <td>352.190770</td>\n",
       "      <td>290.827533</td>\n",
       "      <td>0.564011</td>\n",
       "      <td>81463</td>\n",
       "      <td>0.792772</td>\n",
       "      <td>1073.251</td>\n",
       "      <td>0</td>\n",
       "    </tr>\n",
       "  </tbody>\n",
       "</table>\n",
       "</div>"
      ],
      "text/plain": [
       "      ar     majorAL     minorAL       ecc  conArea    extent      peri  class\n",
       "0  87524  442.246011  253.291155  0.819738    90546  0.758651  1184.040      0\n",
       "1  75166  406.690687  243.032436  0.801805    78789  0.684130  1121.786      0\n",
       "2  90856  442.267048  266.328318  0.798354    93717  0.637613  1208.575      0\n",
       "3  45928  286.540559  208.760042  0.684989    47336  0.699599   844.162      0\n",
       "4  79408  352.190770  290.827533  0.564011    81463  0.792772  1073.251      0"
      ]
     },
     "execution_count": 3,
     "metadata": {},
     "output_type": "execute_result"
    }
   ],
   "source": [
    "df.head()"
   ]
  },
  {
   "cell_type": "code",
   "execution_count": 4,
   "id": "d05b632d",
   "metadata": {},
   "outputs": [],
   "source": [
    "class_col=df['class']"
   ]
  },
  {
   "cell_type": "code",
   "execution_count": 6,
   "id": "c4a63dd7",
   "metadata": {},
   "outputs": [
    {
     "data": {
      "text/plain": [
       "0    450\n",
       "1    450\n",
       "Name: class, dtype: int64"
      ]
     },
     "execution_count": 6,
     "metadata": {},
     "output_type": "execute_result"
    }
   ],
   "source": [
    "class_col.value_counts()"
   ]
  },
  {
   "cell_type": "code",
   "execution_count": 9,
   "id": "93285279",
   "metadata": {},
   "outputs": [
    {
     "data": {
      "text/plain": [
       "87804.12777777777"
      ]
     },
     "execution_count": 9,
     "metadata": {},
     "output_type": "execute_result"
    }
   ],
   "source": [
    "df['ar'].mean()"
   ]
  },
  {
   "cell_type": "code",
   "execution_count": 10,
   "id": "9101e3f2",
   "metadata": {},
   "outputs": [
    {
     "data": {
      "text/plain": [
       "78902.0"
      ]
     },
     "execution_count": 10,
     "metadata": {},
     "output_type": "execute_result"
    }
   ],
   "source": [
    "df['ar'].median()"
   ]
  },
  {
   "cell_type": "code",
   "execution_count": 11,
   "id": "017a3833",
   "metadata": {},
   "outputs": [
    {
     "data": {
      "text/plain": [
       "235047"
      ]
     },
     "execution_count": 11,
     "metadata": {},
     "output_type": "execute_result"
    }
   ],
   "source": [
    "df['ar'].max()"
   ]
  },
  {
   "cell_type": "code",
   "execution_count": 21,
   "id": "2e2b0777",
   "metadata": {},
   "outputs": [
    {
     "data": {
      "image/png": "[encoded data removed]",
      "text/plain": [
       "<Figure size 432x288 with 1 Axes>"
      ]
     },
     "metadata": {
      "needs_background": "light"
     },
     "output_type": "display_data"
    }
   ],
   "source": [
    "plt.plot(df['ar'],marker='o',linestyle='None')\n",
    "plt.hlines(y=df['ar'].mean(),xmin=0,xmax=900,color='orange')\n",
    "plt.show()"
   ]
  },
  {
   "cell_type": "code",
   "execution_count": 25,
   "id": "24490334",
   "metadata": {},
   "outputs": [],
   "source": [
    "df_0=df.loc[df['class']==0]\n",
    "df_1=df.loc[df['class']==1]"
   ]
  },
  {
   "cell_type": "code",
   "execution_count": 27,
   "id": "c946e453",
   "metadata": {},
   "outputs": [
    {
     "data": {
      "text/plain": [
       "63413.46666666667"
      ]
     },
     "execution_count": 27,
     "metadata": {},
     "output_type": "execute_result"
    }
   ],
   "source": [
    "df_0['ar'].mean()"
   ]
  },
  {
   "cell_type": "code",
   "execution_count": 29,
   "id": "76772a58",
   "metadata": {},
   "outputs": [
    {
     "data": {
      "image/png": "[encoded data removed]",
      "text/plain": [
       "<Figure size 432x288 with 1 Axes>"
      ]
     },
     "metadata": {
      "needs_background": "light"
     },
     "output_type": "display_data"
    }
   ],
   "source": [
    "plt.plot(df_0['ar'],marker='o',linestyle='None')\n",
    "plt.hlines(y=df_0['ar'].mean(),xmin=0,xmax=450,color='orange')\n",
    "plt.hlines(y=df_0['ar'].median(),xmin=0,xmax=450,color='green')\n",
    "plt.show()"
   ]
  },
  {
   "cell_type": "code",
   "execution_count": 30,
   "id": "1b3c48a9",
   "metadata": {},
   "outputs": [
    {
     "data": {
      "text/plain": [
       "314273786.4365256"
      ]
     },
     "execution_count": 30,
     "metadata": {},
     "output_type": "execute_result"
    }
   ],
   "source": [
    "df_0['ar'].var()"
   ]
  },
  {
   "cell_type": "code",
   "execution_count": 31,
   "id": "eddf1a6a",
   "metadata": {},
   "outputs": [
    {
     "data": {
      "text/plain": [
       "17727.76879464885"
      ]
     },
     "execution_count": 31,
     "metadata": {},
     "output_type": "execute_result"
    }
   ],
   "source": [
    "df_0['ar'].std()"
   ]
  },
  {
   "cell_type": "code",
   "execution_count": 34,
   "id": "d4c395a6",
   "metadata": {},
   "outputs": [
    {
     "data": {
      "text/plain": [
       "0.27955842388865115"
      ]
     },
     "execution_count": 34,
     "metadata": {},
     "output_type": "execute_result"
    }
   ],
   "source": [
    "df_0['ar'].std()/df_0['ar'].mean()"
   ]
  },
  {
   "cell_type": "code",
   "execution_count": 33,
   "id": "14ef3920",
   "metadata": {},
   "outputs": [
    {
     "data": {
      "text/plain": [
       "1.0084923938997248"
      ]
     },
     "execution_count": 33,
     "metadata": {},
     "output_type": "execute_result"
    }
   ],
   "source": [
    "df_0['ar'].skew()"
   ]
  },
  {
   "cell_type": "code",
   "execution_count": 35,
   "id": "7f9b346a",
   "metadata": {},
   "outputs": [
    {
     "data": {
      "text/plain": [
       "3.97603186908131"
      ]
     },
     "execution_count": 35,
     "metadata": {},
     "output_type": "execute_result"
    }
   ],
   "source": [
    "df_0['ar'].kurtosis()"
   ]
  },
  {
   "cell_type": "code",
   "execution_count": 42,
   "id": "d5e99ab7",
   "metadata": {},
   "outputs": [
    {
     "data": {
      "image/png": "[encoded data removed]",
      "text/plain": [
       "<Figure size 432x288 with 1 Axes>"
      ]
     },
     "metadata": {
      "needs_background": "light"
     },
     "output_type": "display_data"
    }
   ],
   "source": [
    "plt.hist(df['ar'],bins=4,edgecolor='black',color='orange',density=True)\n",
    "plt.show()"
   ]
  },
  {
   "cell_type": "code",
   "execution_count": null,
   "id": "ca4e4a18",
   "metadata": {},
   "outputs": [],
   "source": []
  }
 ],
 "metadata": {
  "kernelspec": {
   "display_name": "Python 3 (ipykernel)",
   "language": "python",
   "name": "python3"
  },
  "language_info": {
   "codemirror_mode": {
    "name": "ipython",
    "version": 3
   },
   "file_extension": ".py",
   "mimetype": "text/x-python",
   "name": "python",
   "nbconvert_exporter": "python",
   "pygments_lexer": "ipython3",
   "version": "3.9.12"
  }
 },
 "nbformat": 4,
 "nbformat_minor": 5
}
